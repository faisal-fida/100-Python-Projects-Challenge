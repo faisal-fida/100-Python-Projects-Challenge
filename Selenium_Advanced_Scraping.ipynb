{
  "cells": [
    {
      "cell_type": "markdown",
      "metadata": {
        "id": "view-in-github",
        "colab_type": "text"
      },
      "source": [
        "<a href=\"https://colab.research.google.com/github/faisal-fida/100-Python-Projects-in-Google-Colab/blob/main/Selenium_Advanced_Scraping.ipynb\" target=\"_parent\"><img src=\"https://colab.research.google.com/assets/colab-badge.svg\" alt=\"Open In Colab\"/></a>"
      ]
    },
    {
      "cell_type": "code",
      "source": [
        "!sudo add-apt-repository ppa:saiarcot895/chromium-beta\n",
        "!sudo apt remove chromium-browser\n",
        "!sudo snap remove chromium\n",
        "!sudo apt install chromium-browser\n",
        "\n",
        "!pip3 install selenium\n",
        "!apt-get update\n",
        "!apt install chromium-chromedriver\n",
        "!cp /usr/lib/chromium-browser/chromedriver /usr/bin\n",
        "\n",
        "import sys\n",
        "sys.path.insert(0,'/usr/lib/chromium-browser/chromedriver')"
      ],
      "metadata": {
        "id": "sbNtacUJ6isx"
      },
      "id": "sbNtacUJ6isx",
      "execution_count": null,
      "outputs": []
    },
    {
      "cell_type": "code",
      "execution_count": null,
      "id": "764e3392",
      "metadata": {
        "ExecuteTime": {
          "end_time": "2023-02-10T10:13:28.757343Z",
          "start_time": "2023-02-10T10:13:28.744427Z"
        },
        "id": "764e3392"
      },
      "outputs": [],
      "source": [
        "import time\n",
        "import pandas as pd\n",
        "from bs4 import BeautifulSoup as bs\n",
        "!pip install undetected_chromedriver\n",
        "!pip install selenium\n",
        "import undetected_chromedriver as uc\n",
        "from selenium.webdriver.common.by import By\n",
        "from selenium.webdriver.common.action_chains import ActionChains"
      ]
    },
    {
      "cell_type": "code",
      "execution_count": null,
      "id": "8109d0ee",
      "metadata": {
        "ExecuteTime": {
          "end_time": "2023-02-10T10:13:32.175087Z",
          "start_time": "2023-02-10T10:13:31.182983Z"
        },
        "id": "8109d0ee"
      },
      "outputs": [],
      "source": [
        "options = uc.ChromeOptions()\n",
        "#options.add_argument(\"--incognito\")\n",
        "#options.add_argument('--proxy-server=185.199.229.156:7492')\n",
        "driver = uc.Chrome(options=options, version_main=0)\n",
        "driver.set_page_load_timeout(1000)\n",
        "action = ActionChains(driver)"
      ]
    },
    {
      "cell_type": "code",
      "execution_count": null,
      "id": "f3727770",
      "metadata": {
        "ExecuteTime": {
          "end_time": "2023-02-10T10:14:26.314250Z",
          "start_time": "2023-02-10T10:14:26.303204Z"
        },
        "id": "f3727770"
      },
      "outputs": [],
      "source": [
        "with open('URLS.txt','r') as re:\n",
        "    URLS = re.readlines()\n",
        "    URLS_DONE = []"
      ]
    },
    {
      "cell_type": "code",
      "execution_count": null,
      "id": "808b798b",
      "metadata": {
        "ExecuteTime": {
          "end_time": "2023-02-10T10:23:07.154454Z",
          "start_time": "2023-02-10T10:23:07.115204Z"
        },
        "id": "808b798b"
      },
      "outputs": [],
      "source": [
        "def get_data(URL):\n",
        "    txt1,txt2,txt3,txt4,txt7,txt8 = '','','','','',''\n",
        "    txt5,txt6 = {},{}\n",
        "    driver.get(URL)\n",
        "    try:\n",
        "        elem = driver.find_element(By.XPATH, value='/html/body/table/tbody/tr/td/table[1]/tbody/tr/td[2]/table/tbody/tr[2]/td[1]/div')\n",
        "    except:\n",
        "        input('Solve: ')\n",
        "        driver.get(URL)\n",
        "        elem = driver.find_element(By.XPATH, value='/html/body/table/tbody/tr/td/table[1]/tbody/tr/td[2]/table/tbody/tr[2]/td[1]/div')\n",
        "        pass\n",
        "    elems = bs(elem.get_attribute(\"outerHTML\"),'html.parser').find_all('table')\n",
        "    title = driver.find_element(By.CSS_SELECTOR, value='p.bigtext').text\n",
        "\n",
        "    txt1 = elems[0].text.strip().split('\\n\\n1\\xa0')[0]\n",
        "    try:\n",
        "        txt2 = elems[0].text.strip().split('\\n\\n1\\xa0')[1]\n",
        "    except:\n",
        "        pass\n",
        "\n",
        "    for i in elems:\n",
        "        if 'Тип:' in i.text:\n",
        "            j = i.text.strip().replace(\"\\xa0\", \" \").split(\"\\n\")\n",
        "            if j:\n",
        "                for line in j:\n",
        "                    if \":\" in line:\n",
        "                        try:\n",
        "                            key, value = line.split(\":\")\n",
        "                        except:\n",
        "                            pass\n",
        "                        txt5[key] = value\n",
        "        elif 'БИБЛИОМЕТРИЧЕСКИЕ ПОКАЗАТЕЛИ:' in i.text:\n",
        "                    for line in i.text.strip().split(\"\\n\"):\n",
        "                        if \":\" in line:\n",
        "                            key, value = line.split(\":\")\n",
        "                            key = key.strip().replace(\"\\xa0\", \" \")\n",
        "                            value = value.strip().replace(\"\\xa0\", \" \")\n",
        "                            txt6[key] = value\n",
        "#         elif 'Тематическое направление:' in i.text:\n",
        "#             txt7 = i.text.strip().replace(\"\\xa0\", \" \")\n",
        "#             elems.remove(i)\n",
        "#         elif 'Рубрика\\xa0ГРНТИ:' in i.text or 'Рубрика\\xa0ГРНТИ:' in i.text:\n",
        "#             txt8 = i.text.strip().replace(\"\\xa0\", \" \")\n",
        "#             elems.remove(i)\n",
        "#         elif 'Рубрика ГРНТИ:' in i.text or 'Рубрика\\xa0ГРНТИ:' in i.text:\n",
        "#             txt8 = i.text.strip().replace(\"\\xa0\", \" \")\n",
        "#             elems.remove(i)\n",
        "        elif 'Рецензенты:' in i.text:\n",
        "            txt4 = i.text.strip()\n",
        "        elif 'редактор:' in i.text:\n",
        "            txt3 = i.text.strip()\n",
        "\n",
        "    #Texts\n",
        "    final_dict['title'] = title\n",
        "    final_dict['txt1'] = txt1\n",
        "    final_dict['txt2'] = txt2\n",
        "    final_dict['txt3'] = txt3\n",
        "    final_dict['txt4'] = txt4\n",
        "    #Text 5\n",
        "    final_dict['Тип'] = txt5['Тип']\n",
        "    final_dict['Язык'] = txt5['Язык']\n",
        "    try:\n",
        "        final_dict['Год издания'] = txt5['Год']\n",
        "    except:\n",
        "        final_dict['Год издания'] = txt5['Год издания']\n",
        "    finally:\n",
        "        pass\n",
        "    #Text 6\n",
        "    final_dict['Входит в РИНЦ®'] = txt6['Входит в РИНЦ®']\n",
        "    final_dict['Цитирований в РИНЦ®'] = txt6['Цитирований в РИНЦ®']\n",
        "    final_dict['Входит в ядро РИНЦ®'] = txt6['Входит в ядро РИНЦ®']\n",
        "    final_dict['Цитирований из ядра РИНЦ®'] = txt6['Цитирований из ядра РИНЦ®']\n",
        "    final_dict['Норм. цитируемость по направлению'] = txt6['Норм. цитируемость по направлению']\n",
        "    final_dict['Дециль в рейтинге по направлению'] = txt6['Дециль в рейтинге по направлению']\n",
        "    final_dict['Тематическое направление'] = txt6['Тематическое направление']\n",
        "    final_dict['Рубрика ГРНТИ'] = txt6['Рубрика ГРНТИ']\n",
        "#     #Text 7\n",
        "#     final_dict['txt7'] = txt7\n",
        "#     #Text 8\n",
        "#     final_dict['txt8'] = txt8\n",
        "    return final_dict"
      ]
    },
    {
      "cell_type": "code",
      "execution_count": null,
      "id": "8dd5e496",
      "metadata": {
        "id": "8dd5e496"
      },
      "outputs": [],
      "source": [
        "URLS.remove(URL)"
      ]
    },
    {
      "cell_type": "code",
      "execution_count": null,
      "id": "a69fc1b6",
      "metadata": {
        "ExecuteTime": {
          "start_time": "2023-02-10T10:27:51.402Z"
        },
        "id": "a69fc1b6",
        "outputId": "6825f040-0f91-41df-ed68-54de96da71b8"
      },
      "outputs": [
        {
          "name": "stdout",
          "output_type": "stream",
          "text": [
            "Done: 23\r"
          ]
        }
      ],
      "source": [
        "final_dicts = []\n",
        "Count = 0\n",
        "while len(URLS)>0:\n",
        "    for URL in URLS:\n",
        "        if URL not in URLS_DONE:\n",
        "            Count = Count + 1\n",
        "            print(\"Done: \" + str(Count), end='\\r')\n",
        "            final_dict = {}\n",
        "            final_dict = get_data(URL)\n",
        "            final_dicts.append(final_dict)\n",
        "            URLS_DONE.append(URL)\n",
        "            URLS.remove(URL)\n",
        "            time.sleep(1.5)"
      ]
    },
    {
      "cell_type": "code",
      "execution_count": null,
      "id": "be24bb41",
      "metadata": {
        "ExecuteTime": {
          "end_time": "2023-02-10T10:27:43.356948Z",
          "start_time": "2023-02-10T10:27:43.339030Z"
        },
        "id": "be24bb41",
        "outputId": "0cb55269-1e0d-4b62-9d17-dbe8a24807ff"
      },
      "outputs": [
        {
          "name": "stdout",
          "output_type": "stream",
          "text": [
            "Done: 50 Remaining: 540\n",
            "DF: 0 Dicts: 50\n"
          ]
        }
      ],
      "source": [
        "print(f'Done: {len(URLS_DONE)} Remaining: {len(URLS)}')\n",
        "print(f'DF: {len(df)} Dicts: {len(final_dicts)}')"
      ]
    },
    {
      "cell_type": "code",
      "execution_count": null,
      "id": "ec4e2e34",
      "metadata": {
        "ExecuteTime": {
          "end_time": "2023-02-10T10:27:47.132855Z",
          "start_time": "2023-02-10T10:27:47.102925Z"
        },
        "id": "ec4e2e34"
      },
      "outputs": [],
      "source": [
        "df = pd.concat([df, pd.DataFrame(final_dicts)], ignore_index=True)"
      ]
    },
    {
      "cell_type": "code",
      "execution_count": null,
      "id": "f943c80d",
      "metadata": {
        "id": "f943c80d"
      },
      "outputs": [],
      "source": [
        "df.to_excel('data1 a.xlsx', mode='a', index=False, header=None)"
      ]
    },
    {
      "cell_type": "code",
      "execution_count": null,
      "id": "a69832a5",
      "metadata": {
        "id": "a69832a5",
        "outputId": "d78ee9e3-404e-41e4-8c5b-123096a3c4c9"
      },
      "outputs": [
        {
          "data": {
            "text/html": [
              "<div>\n",
              "<style scoped>\n",
              "    .dataframe tbody tr th:only-of-type {\n",
              "        vertical-align: middle;\n",
              "    }\n",
              "\n",
              "    .dataframe tbody tr th {\n",
              "        vertical-align: top;\n",
              "    }\n",
              "\n",
              "    .dataframe thead th {\n",
              "        text-align: right;\n",
              "    }\n",
              "</style>\n",
              "<table border=\"1\" class=\"dataframe\">\n",
              "  <thead>\n",
              "    <tr style=\"text-align: right;\">\n",
              "      <th></th>\n",
              "      <th>title</th>\n",
              "      <th>txt1</th>\n",
              "      <th>txt2</th>\n",
              "      <th>txt3</th>\n",
              "      <th>txt4</th>\n",
              "      <th>Тип</th>\n",
              "      <th>Язык</th>\n",
              "      <th>Год издания</th>\n",
              "      <th>Входит в РИНЦ®</th>\n",
              "      <th>Цитирований в РИНЦ®</th>\n",
              "      <th>Входит в ядро РИНЦ®</th>\n",
              "      <th>Цитирований из ядра РИНЦ®</th>\n",
              "      <th>Норм. цитируемость по направлению</th>\n",
              "      <th>Дециль в рейтинге по направлению</th>\n",
              "      <th>Тематическое направление</th>\n",
              "      <th>Рубрика ГРНТИ</th>\n",
              "    </tr>\n",
              "  </thead>\n",
              "  <tbody>\n",
              "    <tr>\n",
              "      <th>415</th>\n",
              "      <td>ОТНОШЕНИЯ АНК С СССР И КИТАЕМ В НАЧАЛЕ 1960-Х ГГ</td>\n",
              "      <td>АРХАНГЕЛЬСКАЯ АЛЕКСАНДРА1</td>\n",
              "      <td>ИАФР РАН</td>\n",
              "      <td></td>\n",
              "      <td></td>\n",
              "      <td>статья в журнале - материалы конференции</td>\n",
              "      <td>русский</td>\n",
              "      <td>2019</td>\n",
              "      <td>да</td>\n",
              "      <td>0</td>\n",
              "      <td>нет</td>\n",
              "      <td>0</td>\n",
              "      <td></td>\n",
              "      <td></td>\n",
              "      <td>Social and economic geography</td>\n",
              "      <td>Комплексное изучение отдельных стран и регионов</td>\n",
              "    </tr>\n",
              "    <tr>\n",
              "      <th>416</th>\n",
              "      <td>ЭКОНОМИЧЕСКИЙ БОЙКОТ АПАРТЕИДА СО СТОРОНЫ СССР</td>\n",
              "      <td>СИДОРОВ ВАСИЛИЙ1</td>\n",
              "      <td>ИАФР РАН</td>\n",
              "      <td></td>\n",
              "      <td></td>\n",
              "      <td>статья в журнале - материалы конференции</td>\n",
              "      <td>русский</td>\n",
              "      <td>2019</td>\n",
              "      <td>да</td>\n",
              "      <td>0</td>\n",
              "      <td>нет</td>\n",
              "      <td>0</td>\n",
              "      <td></td>\n",
              "      <td></td>\n",
              "      <td>Social and economic geography</td>\n",
              "      <td>Комплексное изучение отдельных стран и регионов</td>\n",
              "    </tr>\n",
              "  </tbody>\n",
              "</table>\n",
              "</div>"
            ],
            "text/plain": [
              "                                                title  \\\n",
              "415  ОТНОШЕНИЯ АНК С СССР И КИТАЕМ В НАЧАЛЕ 1960-Х ГГ   \n",
              "416    ЭКОНОМИЧЕСКИЙ БОЙКОТ АПАРТЕИДА СО СТОРОНЫ СССР   \n",
              "\n",
              "                          txt1      txt2 txt3 txt4  \\\n",
              "415  АРХАНГЕЛЬСКАЯ АЛЕКСАНДРА1  ИАФР РАН             \n",
              "416           СИДОРОВ ВАСИЛИЙ1  ИАФР РАН             \n",
              "\n",
              "                                           Тип      Язык Год издания  \\\n",
              "415   статья в журнале - материалы конференции   русский        2019   \n",
              "416   статья в журнале - материалы конференции   русский        2019   \n",
              "\n",
              "    Входит в РИНЦ® Цитирований в РИНЦ® Входит в ядро РИНЦ®  \\\n",
              "415             да                   0                 нет   \n",
              "416             да                   0                 нет   \n",
              "\n",
              "    Цитирований из ядра РИНЦ® Норм. цитируемость по направлению  \\\n",
              "415                         0                                     \n",
              "416                         0                                     \n",
              "\n",
              "    Дециль в рейтинге по направлению       Тематическое направление  \\\n",
              "415                                   Social and economic geography   \n",
              "416                                   Social and economic geography   \n",
              "\n",
              "                                       Рубрика ГРНТИ  \n",
              "415  Комплексное изучение отдельных стран и регионов  \n",
              "416  Комплексное изучение отдельных стран и регионов  "
            ]
          },
          "execution_count": 242,
          "metadata": {},
          "output_type": "execute_result"
        }
      ],
      "source": [
        "df.tail(2)"
      ]
    },
    {
      "cell_type": "code",
      "execution_count": null,
      "id": "ae96f323",
      "metadata": {
        "ExecuteTime": {
          "end_time": "2023-02-10T10:16:37.323506Z",
          "start_time": "2023-02-10T10:16:37.314626Z"
        },
        "id": "ae96f323"
      },
      "outputs": [],
      "source": []
    },
    {
      "cell_type": "code",
      "execution_count": null,
      "id": "630d7606",
      "metadata": {
        "id": "630d7606",
        "outputId": "cbe91e64-02e0-4897-e809-4c288f0649f2"
      },
      "outputs": [
        {
          "data": {
            "text/plain": [
              "(102, 15)"
            ]
          },
          "execution_count": 146,
          "metadata": {},
          "output_type": "execute_result"
        }
      ],
      "source": [
        "df.drop_duplicates(inplace=True)\n",
        "df.shape"
      ]
    },
    {
      "cell_type": "code",
      "execution_count": null,
      "id": "4342c3cb",
      "metadata": {
        "id": "4342c3cb"
      },
      "outputs": [],
      "source": [
        "df1['Год издания'].fillna('2022',inplace=True)\n",
        "df1['Цитирований из ядра РИНЦ®'].fillna('0',inplace=True)\n",
        "df1['Цитирований в РИНЦ®'].fillna('0',inplace=True)\n",
        "df.to_excel('data1.xlsx')"
      ]
    },
    {
      "cell_type": "code",
      "execution_count": null,
      "id": "ddd2441a",
      "metadata": {
        "ExecuteTime": {
          "end_time": "2023-02-10T10:03:08.272226Z",
          "start_time": "2023-02-10T10:03:08.263971Z"
        },
        "id": "ddd2441a"
      },
      "outputs": [],
      "source": [
        "df = pd.DataFrame()"
      ]
    },
    {
      "cell_type": "code",
      "execution_count": null,
      "id": "1260bc8f",
      "metadata": {
        "ExecuteTime": {
          "end_time": "2023-02-10T10:18:06.641247Z",
          "start_time": "2023-02-10T10:18:06.580509Z"
        },
        "id": "1260bc8f"
      },
      "outputs": [],
      "source": [
        "elem = driver.find_element(By.XPATH, value='/html/body/table/tbody/tr/td/table[1]/tbody/tr/td[2]/table/tbody/tr[2]/td[1]/div')\n",
        "elems = bs(elem.get_attribute(\"outerHTML\"),'html.parser').find_all('table')"
      ]
    },
    {
      "cell_type": "code",
      "execution_count": null,
      "id": "9948dd61",
      "metadata": {
        "ExecuteTime": {
          "end_time": "2023-02-10T10:18:11.139600Z",
          "start_time": "2023-02-10T10:18:11.119740Z"
        },
        "id": "9948dd61",
        "outputId": "522bafa7-846e-4384-e246-c4a4c15bb2ba"
      },
      "outputs": [
        {
          "data": {
            "text/plain": [
              "'САВАТЕЕВ АНАТОЛИЙ ДМИТРИЕВИЧ1,2, ХАЙРУЛЛИН ТИМУР РАДИКОВИЧ3,4'"
            ]
          },
          "execution_count": 22,
          "metadata": {},
          "output_type": "execute_result"
        }
      ],
      "source": [
        "#txt1\n",
        "elems[0].text.strip().split('\\n\\n1\\xa0')[0]"
      ]
    },
    {
      "cell_type": "code",
      "execution_count": null,
      "id": "16c0e274",
      "metadata": {
        "ExecuteTime": {
          "end_time": "2023-02-10T10:18:11.952429Z",
          "start_time": "2023-02-10T10:18:11.939785Z"
        },
        "id": "16c0e274",
        "outputId": "b68db38e-e521-4013-cbee-e606cf37adea"
      },
      "outputs": [
        {
          "data": {
            "text/plain": [
              "'Центр цивилизационных и региональных исследований, Россия, г. Москва2\\xa0Институт Африки РАН3\\xa0Центр цивилизационных и региональных исследований. Институт Африки РАН, Россия, г. Москва4\\xa0Финансовый университет при Правительстве РФ'"
            ]
          },
          "execution_count": 23,
          "metadata": {},
          "output_type": "execute_result"
        }
      ],
      "source": [
        "#txt2\n",
        "elems[0].text.strip().split('\\n\\n1\\xa0')[1]"
      ]
    },
    {
      "cell_type": "code",
      "execution_count": null,
      "id": "650d7725",
      "metadata": {
        "ExecuteTime": {
          "end_time": "2023-02-10T10:18:13.952605Z",
          "start_time": "2023-02-10T10:18:13.936500Z"
        },
        "id": "650d7725"
      },
      "outputs": [],
      "source": [
        "for i in elems:\n",
        "    if 'БИБЛИОМЕТРИЧЕСКИЕ ПОКАЗАТЕЛИ:' in i.text:\n",
        "                for line in i.text.strip().split(\"\\n\"):\n",
        "                    if \":\" in line:\n",
        "                        key, value = line.split(\":\")\n",
        "                        key = key.strip().replace(\"\\xa0\", \" \")\n",
        "                        value = value.strip().replace(\"\\xa0\", \" \")\n",
        "                        txt6[key] = value"
      ]
    },
    {
      "cell_type": "code",
      "execution_count": null,
      "id": "4538d759",
      "metadata": {
        "ExecuteTime": {
          "end_time": "2023-02-10T10:18:14.376815Z",
          "start_time": "2023-02-10T10:18:14.363133Z"
        },
        "id": "4538d759",
        "outputId": "ecddd64c-7562-4de1-ef7d-1cdf424ca3c2"
      },
      "outputs": [
        {
          "data": {
            "text/plain": [
              "{'БИБЛИОМЕТРИЧЕСКИЕ ПОКАЗАТЕЛИ': '',\n",
              " 'Входит в РИНЦ®': 'да',\n",
              " 'Цитирований в РИНЦ®': '6',\n",
              " 'Входит в ядро РИНЦ®': 'нет',\n",
              " 'Цитирований из ядра РИНЦ®': '0',\n",
              " 'Норм. цитируемость по журналу': '',\n",
              " 'Импакт-фактор журнала в РИНЦ': '',\n",
              " 'Норм. цитируемость по направлению': '',\n",
              " 'Дециль в рейтинге по направлению': '',\n",
              " 'Тематическое направление': 'Political science',\n",
              " 'Рубрика ГРНТИ': 'Политика. Политические науки'}"
            ]
          },
          "execution_count": 25,
          "metadata": {},
          "output_type": "execute_result"
        }
      ],
      "source": [
        "txt6"
      ]
    },
    {
      "cell_type": "code",
      "execution_count": null,
      "id": "ab7828fc",
      "metadata": {
        "ExecuteTime": {
          "end_time": "2023-02-10T10:21:39.191852Z",
          "start_time": "2023-02-10T10:21:39.178673Z"
        },
        "id": "ab7828fc"
      },
      "outputs": [],
      "source": []
    },
    {
      "cell_type": "code",
      "execution_count": null,
      "id": "fd631250",
      "metadata": {
        "ExecuteTime": {
          "end_time": "2023-02-10T10:21:39.719213Z",
          "start_time": "2023-02-10T10:21:39.703220Z"
        },
        "id": "fd631250",
        "outputId": "11ca610b-ceb7-4b76-9e79-0d3cb6b2370c"
      },
      "outputs": [
        {
          "data": {
            "text/plain": [
              "{'Тип': ' статья в журнале - научная статья',\n",
              " 'Язык': ' русский',\n",
              " 'Год': ' 2019',\n",
              " 'Страницы': ' 165-180',\n",
              " 'Поступила в редакцию': ' 21.04.2019',\n",
              " '     УДК': ' 322.172.3'}"
            ]
          },
          "execution_count": 41,
          "metadata": {},
          "output_type": "execute_result"
        }
      ],
      "source": [
        "txt5"
      ]
    },
    {
      "cell_type": "code",
      "execution_count": null,
      "id": "0abafdd0",
      "metadata": {
        "id": "0abafdd0"
      },
      "outputs": [],
      "source": [
        "def get_data(URL):\n",
        "    driver.get(URL)\n",
        "    elem = driver.find_element(By.XPATH, value='/html/body/table/tbody/tr/td/table[1]/tbody/tr/td[2]/table/tbody/tr[2]/td[1]/div')\n",
        "    elems = bs(elem.get_attribute(\"outerHTML\"),'html.parser').find_all('table')\n",
        "\n",
        "    txt1 = elems[0].text.strip().split('\\n\\n1\\xa0')[0]\n",
        "    txt2 = elems[0].text.strip().split('\\n\\n1\\xa0')[1]\n",
        "    txt3 = elems[1].text.strip()\n",
        "    txt4 = elems[3].text.strip()\n",
        "\n",
        "    txt7 = elems[6].text.strip().replace(\"\\xa0\", \" \")\n",
        "    txt8 = elems[7].text.strip().replace(\"\\xa0\", \" \")\n",
        "\n",
        "\n",
        "    txt5 = {}\n",
        "    try:\n",
        "        for line in elems[2].text.strip().split(\"\\n\")[:7]:\n",
        "            if \":\" in line:\n",
        "                key, value = line.split(\":\")\n",
        "                key = key.strip().replace(\"\\xa0\", \" \")\n",
        "                value = value.strip().replace(\"\\xa0\", \" \")\n",
        "                txt5[key] = value\n",
        "    except Exception as e:\n",
        "        print(f'{e}')\n",
        "\n",
        "    txt6 = {}\n",
        "    try:\n",
        "        for line in elems[5].text.strip().split(\"\\n\"):\n",
        "            if \":\" in line:\n",
        "                key, value = line.split(\":\")\n",
        "                key = key.strip().replace(\"\\xa0\", \" \")\n",
        "                value = value.strip().replace(\"\\xa0\", \" \")\n",
        "                txt6[key] = value\n",
        "    except Exception as e:\n",
        "        print(f'{e}')\n",
        "\n",
        "    #Texts\n",
        "    try:\n",
        "        final_dict['txt1'] = txt1\n",
        "    except Exception as e:\n",
        "        print(f'{e}')\n",
        "    try:\n",
        "        final_dict['txt2'] = txt2\n",
        "    except Exception as e:\n",
        "        print(f'{e}')\n",
        "    try:\n",
        "        final_dict['txt3'] = txt3\n",
        "    except Exception as e:\n",
        "        print(f'{e}')\n",
        "    try:\n",
        "        final_dict['txt4'] = txt4\n",
        "    except Exception as e:\n",
        "        print(f'{e}')\n",
        "        #Text 5\n",
        "    try:\n",
        "        final_dict['Тип'] = txt5['Тип']\n",
        "    except Exception as e:\n",
        "        print(f'{e}')\n",
        "    try:\n",
        "        final_dict['Язык'] = txt5['Язык']\n",
        "    except Exception as e:\n",
        "        print(f'{e}')\n",
        "    try:\n",
        "        final_dict['Год издания'] = txt5['Год издания']\n",
        "    except Exception as e:\n",
        "        print(f'{e}')\n",
        "        #Text 6\n",
        "    try:\n",
        "        final_dict['Входит в РИНЦ®'] = txt6['Входит в РИНЦ®']\n",
        "    except Exception as e:\n",
        "        print(f'{e}')\n",
        "    try:\n",
        "        final_dict['Цитирований в РИНЦ®'] = txt6['Цитирований в РИНЦ®']\n",
        "    except Exception as e:\n",
        "        print(f'{e}')\n",
        "    try:\n",
        "        final_dict['Входит в ядро РИНЦ®'] = txt6['Входит в ядро РИНЦ®']\n",
        "    except Exception as e:\n",
        "        print(f'{e}')\n",
        "    try:\n",
        "        final_dict['Цитирований из ядра РИНЦ®'] = txt6['Цитирований из ядра РИНЦ®']\n",
        "    except Exception as e:\n",
        "        print(f'{e}')\n",
        "    try:\n",
        "        final_dict['Норм. цитируемость по направлению'] = txt6['Норм. цитируемость по направлению']\n",
        "    except Exception as e:\n",
        "        print(f'{e}')\n",
        "    try:\n",
        "        final_dict['Дециль в рейтинге по направлению'] = txt6['Дециль в рейтинге по направлению']\n",
        "    except Exception as e:\n",
        "        print(f'{e}')\n",
        "        #Text 7\n",
        "    try:\n",
        "        final_dict['txt7'] = txt7\n",
        "    except Exception as e:\n",
        "        print(f'{e}')\n",
        "        #Text 8\n",
        "    try:\n",
        "        final_dict['txt8'] = txt8\n",
        "    except Exception as e:\n",
        "        print(f'{e}')\n",
        "    return final_dict"
      ]
    }
  ],
  "metadata": {
    "kernelspec": {
      "display_name": "Python 3 (ipykernel)",
      "language": "python",
      "name": "python3"
    },
    "language_info": {
      "codemirror_mode": {
        "name": "ipython",
        "version": 3
      },
      "file_extension": ".py",
      "mimetype": "text/x-python",
      "name": "python",
      "nbconvert_exporter": "python",
      "pygments_lexer": "ipython3",
      "version": "3.9.13"
    },
    "varInspector": {
      "cols": {
        "lenName": 16,
        "lenType": 16,
        "lenVar": 40
      },
      "kernels_config": {
        "python": {
          "delete_cmd_postfix": "",
          "delete_cmd_prefix": "del ",
          "library": "var_list.py",
          "varRefreshCmd": "print(var_dic_list())"
        },
        "r": {
          "delete_cmd_postfix": ") ",
          "delete_cmd_prefix": "rm(",
          "library": "var_list.r",
          "varRefreshCmd": "cat(var_dic_list()) "
        }
      },
      "types_to_exclude": [
        "module",
        "function",
        "builtin_function_or_method",
        "instance",
        "_Feature"
      ],
      "window_display": false
    },
    "colab": {
      "provenance": [],
      "include_colab_link": true
    }
  },
  "nbformat": 4,
  "nbformat_minor": 5
}