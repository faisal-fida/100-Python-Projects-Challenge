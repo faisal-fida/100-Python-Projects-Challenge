{
  "nbformat": 4,
  "nbformat_minor": 0,
  "metadata": {
    "colab": {
      "provenance": [],
      "authorship_tag": "ABX9TyMMe+hKvmz6DwNKCTKutC0l",
      "include_colab_link": true
    },
    "kernelspec": {
      "name": "python3",
      "display_name": "Python 3"
    },
    "language_info": {
      "name": "python"
    }
  },
  "cells": [
    {
      "cell_type": "markdown",
      "metadata": {
        "id": "view-in-github",
        "colab_type": "text"
      },
      "source": [
        "<a href=\"https://colab.research.google.com/github/faisal-fida/100-Python-Projects-in-Google-Colab/blob/main/SlowedReverb_YouTube.ipynb\" target=\"_parent\"><img src=\"https://colab.research.google.com/assets/colab-badge.svg\" alt=\"Open In Colab\"/></a>"
      ]
    },
    {
      "cell_type": "markdown",
      "source": [
        "# Installing Dependencies"
      ],
      "metadata": {
        "id": "TIguTgVzf_En"
      }
    },
    {
      "cell_type": "code",
      "source": [
        "!git clone https://github.com/yash1th/unsplash-album-downloader\n",
        "!git clone https://github.com/rnnh/vaporiser.git\n",
        "!python3 -m pip install --force-reinstall https://github.com/yt-dlp/yt-dlp/archive/master.tar.gz\n",
        "!sudo apt install sox\n",
        "!sudo apt-get install libsox-fmt-mp3\n",
        "!pip install --upgrade pip\n",
        "\n",
        "import yt_dlp\n",
        "import re\n",
        "import time\n",
        "from moviepy.video.io.VideoFileClip import AudioFileClip\n",
        "\n",
        "%cd /vaporiser/\n",
        "!pip install -r requirements.txt\n",
        "%cd /content/\n",
        "\n",
        "%cd unsplash-album-downloader\n",
        "!pip install -r requirements.txt"
      ],
      "metadata": {
        "id": "mjoA1c9lNXBw"
      },
      "execution_count": null,
      "outputs": []
    },
    {
      "cell_type": "code",
      "source": [
        " %cd /content/"
      ],
      "metadata": {
        "id": "CuqA2AgbrULs"
      },
      "execution_count": null,
      "outputs": []
    },
    {
      "cell_type": "markdown",
      "source": [
        "# Unsplash Downloader"
      ],
      "metadata": {
        "id": "oqUB0-P6fozC"
      }
    },
    {
      "cell_type": "code",
      "source": [
        "username = ''\n",
        "albumtype = 'uploads'\n",
        "size = 'full'\n",
        "\n",
        "!python download_user_album.py username albumtype size\n",
        "!mv user_directory /content/\n",
        "\n",
        "# !rm -rf"
      ],
      "metadata": {
        "id": "i6yAKao2Wrvk"
      },
      "execution_count": null,
      "outputs": []
    },
    {
      "cell_type": "markdown",
      "source": [
        "# YouTube to MP3"
      ],
      "metadata": {
        "id": "Wr5C9jnffz20"
      }
    },
    {
      "cell_type": "code",
      "execution_count": null,
      "metadata": {
        "id": "0v-dpiK5Hz9P"
      },
      "outputs": [],
      "source": [
        "url = 'https://www.youtube.com/watch?v=MQbAAnvHuLA'\n",
        "\n",
        "def download_video(url: str) -> str:\n",
        "    url = url.split(\"&\")\n",
        "    url = url[0]\n",
        "    video_info = yt_dlp.YoutubeDL().extract_info(url,download=False)\n",
        "    filename = f\"{video_info['title']}\"\n",
        "    filename = re.sub('[^0-9a-zA-Z]+', '_', filename)\n",
        "    options={\n",
        "    'format':'bestaudio/best',\n",
        "    'keepvideo':False,\n",
        "    'outtmpl':filename\n",
        "    }\n",
        "    with yt_dlp.YoutubeDL(options) as ydl:\n",
        "        ydl.download([video_info['webpage_url']])\n",
        "    return filename\n",
        "\n",
        "def convert_to_mp3(filename: str) -> None:\n",
        "    clip = AudioFileClip(filename)\n",
        "    path = clip.write_audiofile(filename + \".mp3\")\n",
        "    clip.close()\n",
        "    print(path)\n",
        "\n",
        "filename = download_video(url)\n",
        "mp3path = convert_to_mp3(filename)\n",
        "\n",
        "print(f'{filename}.mp3')\n",
        "print(mp3path)"
      ]
    },
    {
      "cell_type": "markdown",
      "source": [
        "### Creates (slowed & reverb) with  a looped GIF as a video.\n",
        "\n"
      ],
      "metadata": {
        "id": "lXLJscWaoXtD"
      }
    },
    {
      "cell_type": "code",
      "execution_count": null,
      "metadata": {
        "id": "sLmdAoybmT6R"
      },
      "outputs": [],
      "source": [
        "url = 'https://www.youtube.com/watch?v=Qwm6BSGrOq0'\n",
        "\n",
        "def download_video(url: str) -> str:\n",
        "    url = url.split(\"&\")\n",
        "    url = url[0]\n",
        "    video_info = yt_dlp.YoutubeDL().extract_info(url,download=False)\n",
        "    filename = f\"{video_info['title']}\"\n",
        "    filename = re.sub('[^0-9a-zA-Z]+', '_', filename)\n",
        "    options={\n",
        "    'format':'bestaudio/best',\n",
        "    'keepvideo':False,\n",
        "    'outtmpl':filename\n",
        "    }\n",
        "    with yt_dlp.YoutubeDL(options) as ydl:\n",
        "        ydl.download([video_info['webpage_url']])\n",
        "    return filename\n",
        "\n",
        "def convert_to_mp3(filename: str) -> None:\n",
        "    clip = AudioFileClip(filename)\n",
        "    path = clip.write_audiofile(filename + \".mp3\")\n",
        "    clip.close()\n",
        "    print(path)\n",
        "\n",
        "filename = download_video(url)\n",
        "mp3path = convert_to_mp3(filename)"
      ]
    },
    {
      "cell_type": "code",
      "source": [
        "%cd /content/\n",
        "%cd /vaporiser/\n",
        "\n",
        "!python vaporiser.py -a -b 3 -g"
      ],
      "metadata": {
        "id": "Jgm5Is9Noy9I"
      },
      "execution_count": null,
      "outputs": []
    }
  ]
}