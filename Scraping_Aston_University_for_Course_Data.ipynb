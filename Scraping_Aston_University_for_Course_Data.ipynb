{
  "nbformat": 4,
  "nbformat_minor": 0,
  "metadata": {
    "colab": {
      "provenance": [],
      "authorship_tag": "ABX9TyM7UnJMhIkNcmRrzbcFXjyY",
      "include_colab_link": true
    },
    "kernelspec": {
      "name": "python3",
      "display_name": "Python 3"
    },
    "language_info": {
      "name": "python"
    }
  },
  "cells": [
    {
      "cell_type": "markdown",
      "metadata": {
        "id": "view-in-github",
        "colab_type": "text"
      },
      "source": [
        "<a href=\"https://colab.research.google.com/github/faisal-fida/100-Python-Projects-in-Google-Colab/blob/main/Scraping_Aston_University_for_Course_Data.ipynb\" target=\"_parent\"><img src=\"https://colab.research.google.com/assets/colab-badge.svg\" alt=\"Open In Colab\"/></a>"
      ]
    },
    {
      "cell_type": "code",
      "source": [
        "import requests as r\n",
        "from bs4 import BeautifulSoup as BS"
      ],
      "metadata": {
        "id": "goQveexNOoNk"
      },
      "execution_count": null,
      "outputs": []
    },
    {
      "cell_type": "code",
      "source": [
        "URL = 'https://www.aston.ac.uk/study/courses/accounting-and-finance-bsc/september-2023'\n",
        "html = r.get(URL).content"
      ],
      "metadata": {
        "id": "LlVvTSa5OtM_"
      },
      "execution_count": null,
      "outputs": []
    },
    {
      "cell_type": "code",
      "source": [
        "soup = BS(html, 'html.parser')\n",
        "\n",
        "print(soup.prettify())"
      ],
      "metadata": {
        "id": "mQs8SbW0O6gR"
      },
      "execution_count": null,
      "outputs": []
    },
    {
      "cell_type": "code",
      "source": [
        "soup.select('h3 span span').get_text()"
      ],
      "metadata": {
        "id": "9JK8Uh5vXiek"
      },
      "execution_count": null,
      "outputs": []
    },
    {
      "cell_type": "code",
      "source": [
        "soup.select_one('div.other_info div.cr_start_date div.info.select-wrapper option').get_text()"
      ],
      "metadata": {
        "colab": {
          "base_uri": "https://localhost:8080/",
          "height": 35
        },
        "id": "z0dxamwqXig-",
        "outputId": "5611872f-c848-4d8b-ab96-2f959f782e00"
      },
      "execution_count": null,
      "outputs": [
        {
          "output_type": "execute_result",
          "data": {
            "text/plain": [
              "'September 2023'"
            ],
            "application/vnd.google.colaboratory.intrinsic+json": {
              "type": "string"
            }
          },
          "metadata": {},
          "execution_count": 46
        }
      ]
    },
    {
      "cell_type": "code",
      "source": [
        "soup.select('div[id=\"fees-and-scholarships\"] div.course-info-desc div.col-sm-6.col-md-6.col-first h3 em')[0]"
      ],
      "metadata": {
        "colab": {
          "base_uri": "https://localhost:8080/"
        },
        "id": "XcKG1YRVXiii",
        "outputId": "aab7d825-5caf-451b-db7e-e3a9f0ef729f"
      },
      "execution_count": null,
      "outputs": [
        {
          "output_type": "execute_result",
          "data": {
            "text/plain": [
              "<em>£9,250</em>"
            ]
          },
          "metadata": {},
          "execution_count": 52
        }
      ]
    },
    {
      "cell_type": "code",
      "source": [],
      "metadata": {
        "id": "s5xjzT3RXipr"
      },
      "execution_count": null,
      "outputs": []
    },
    {
      "cell_type": "code",
      "source": [
        "div_container = soup.select_one('div.open-days-wrapper.other_related_content div.container div.course-list-card')"
      ],
      "metadata": {
        "id": "_M8illrqPjet"
      },
      "execution_count": null,
      "outputs": []
    },
    {
      "cell_type": "code",
      "source": [
        "course_listcard = div_container.select('div.course-list-card')"
      ],
      "metadata": {
        "id": "UFkGq6ANP8B0"
      },
      "execution_count": null,
      "outputs": []
    },
    {
      "cell_type": "code",
      "source": [
        "div_a = div_container[0].select_one('a')"
      ],
      "metadata": {
        "id": "E9zHPTIIRnvi"
      },
      "execution_count": null,
      "outputs": []
    },
    {
      "cell_type": "code",
      "source": [
        "data = {}"
      ],
      "metadata": {
        "id": "9Thg8sdyQMX8"
      },
      "execution_count": null,
      "outputs": []
    },
    {
      "cell_type": "code",
      "source": [
        "data['cource_link'] = div_a.get('href')\n",
        "data['course-title'] = div_a.select_one('h3.course-title').get_text(strip=True)\n",
        "data['program-type'] = div_a.select_one('h5.program-type').get_text(strip=True)\n",
        "data['course-duration'] = div_a.select_one('div.duration p').get_text(strip=True)"
      ],
      "metadata": {
        "id": "3L444hqZR03e"
      },
      "execution_count": null,
      "outputs": []
    },
    {
      "cell_type": "code",
      "source": [
        "data"
      ],
      "metadata": {
        "colab": {
          "base_uri": "https://localhost:8080/"
        },
        "id": "PoInvF37R08N",
        "outputId": "e733921b-9283-4ee1-9667-6f11e56a876e"
      },
      "execution_count": null,
      "outputs": [
        {
          "output_type": "execute_result",
          "data": {
            "text/plain": [
              "{'cource_link': 'https://www.aston.ac.uk/study/courses/accounting-and-finance-bsc/september-2023',\n",
              " 'course-title': 'Accounting and Finance BSc',\n",
              " 'program-type': 'Undergraduate degrees',\n",
              " 'course-duration': '4 year with integrated placement year/3 year course without integrated placement year, option only available for EU/international\\xa0students.'}"
            ]
          },
          "metadata": {},
          "execution_count": 32
        }
      ]
    },
    {
      "cell_type": "code",
      "source": [],
      "metadata": {
        "id": "JchHmyVaSUi_"
      },
      "execution_count": null,
      "outputs": []
    }
  ]
}