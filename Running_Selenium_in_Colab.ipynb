{
  "nbformat": 4,
  "nbformat_minor": 0,
  "metadata": {
    "colab": {
      "provenance": [],
      "authorship_tag": "ABX9TyN3Juf+7h/mvI1e59Y0HQ0x",
      "include_colab_link": true
    },
    "kernelspec": {
      "name": "python3",
      "display_name": "Python 3"
    },
    "language_info": {
      "name": "python"
    }
  },
  "cells": [
    {
      "cell_type": "markdown",
      "metadata": {
        "id": "view-in-github",
        "colab_type": "text"
      },
      "source": [
        "<a href=\"https://colab.research.google.com/github/faisal-fida/100-Python-Projects-in-Google-Colab/blob/main/Running_Selenium_in_Colab.ipynb\" target=\"_parent\"><img src=\"https://colab.research.google.com/assets/colab-badge.svg\" alt=\"Open In Colab\"/></a>"
      ]
    },
    {
      "cell_type": "code",
      "source": [
        "!pip install selenium\n",
        "!apt-get update\n",
        "!apt install chromium-chromedriver"
      ],
      "metadata": {
        "id": "gWv7Z-c8Ystv"
      },
      "execution_count": null,
      "outputs": []
    },
    {
      "cell_type": "code",
      "source": [
        "from selenium import webdriver\n",
        "from selenium.webdriver.support.ui import WebDriverWait\n",
        "from selenium.webdriver.common.by import By\n",
        "from selenium.webdriver.support import expected_conditions as EC\n",
        "from selenium.webdriver.common.action_chains import ActionChains"
      ],
      "metadata": {
        "id": "U2SJ3UG3Ysx6"
      },
      "execution_count": null,
      "outputs": []
    },
    {
      "cell_type": "code",
      "source": [
        "option = webdriver.ChromeOptions()\n",
        "option.add_argument(\"--headless\")\n",
        "option.add_argument(\"--disable-gpu\")\n",
        "option.add_argument('--no-sandbox')\n",
        "\n",
        "chromedriver_location = \"/usr/bin/chromedriver\"\n",
        "\n",
        "driver = webdriver.Chrome(chromedriver_location,option)"
      ],
      "metadata": {
        "id": "ZxV2EQgDYs12"
      },
      "execution_count": null,
      "outputs": []
    },
    {
      "cell_type": "code",
      "source": [
        "wait = WebDriverWait(driver, 10)\n",
        "driver.get(\"https://docs.google.com/forms/d/e/1FAIpQLSc3zh-qETI2WDHgxXCGZ0JtMxdTYdWZ0zwNc2Y3NjythtBl0g/viewform?fbzx=-599222426261136088\")\n",
        "wait.until(EC.element_to_be_clickable((By.XPATH, \"//span[text()='Next']\"))).click()\n",
        "wait.until(EC.element_to_be_clickable((By.CSS_SELECTOR, \"label[for='i8']\"))).click()\n",
        "wait.until(EC.element_to_be_clickable((By.XPATH, \"//span[text()='Submit']\"))).click()\n",
        "print(\"Operation successful !\")"
      ],
      "metadata": {
        "id": "_m--EvThYs5p"
      },
      "execution_count": null,
      "outputs": []
    }
  ]
}