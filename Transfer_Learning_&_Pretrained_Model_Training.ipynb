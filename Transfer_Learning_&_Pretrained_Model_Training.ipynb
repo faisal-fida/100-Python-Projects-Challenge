{
  "nbformat": 4,
  "nbformat_minor": 0,
  "metadata": {
    "colab": {
      "provenance": [],
      "authorship_tag": "ABX9TyOMzkjfNhi9Zo0sL+Ndksmh",
      "include_colab_link": true
    },
    "kernelspec": {
      "name": "python3",
      "display_name": "Python 3"
    },
    "language_info": {
      "name": "python"
    }
  },
  "cells": [
    {
      "cell_type": "markdown",
      "metadata": {
        "id": "view-in-github",
        "colab_type": "text"
      },
      "source": [
        "<a href=\"https://colab.research.google.com/github/faisal-fida/100-Python-Projects-in-Google-Colab/blob/main/Transfer_Learning_%26_Pretrained_Model_Training.ipynb\" target=\"_parent\"><img src=\"https://colab.research.google.com/assets/colab-badge.svg\" alt=\"Open In Colab\"/></a>"
      ]
    },
    {
      "cell_type": "markdown",
      "source": [
        "## **Transfer Learning:**\n",
        "*  Utilizing Pretrained Models: Transfer learning involves using a pre-trained model (e.g., VGG, ResNet) trained on a large dataset for a different task.\n",
        "*  Adapting to New Task: The pre-trained model's learned features are leveraged as a starting point and customized top layers are added for the specific task.\n",
        "*  Fine-Tuning: The model can be fine-tuned by adjusting a subset of layers' weights on the new dataset to improve performance."
      ],
      "metadata": {
        "id": "76fhbnu83jPs"
      }
    },
    {
      "cell_type": "code",
      "source": [
        "import tensorflow as tf\n",
        "from tensorflow.keras.applications import VGG16\n",
        "from tensorflow.keras.models import Sequential\n",
        "from tensorflow.keras.layers import Dense, Flatten"
      ],
      "metadata": {
        "id": "BZ25YDLm3mA7"
      },
      "execution_count": null,
      "outputs": []
    },
    {
      "cell_type": "code",
      "source": [
        "base_model = VGG16(weights='imagenet', include_top=False, input_shape=(224, 224, 3))\n",
        "\n",
        "for layer in base_model.layers:\n",
        "    layer.trainable = False"
      ],
      "metadata": {
        "colab": {
          "base_uri": "https://localhost:8080/"
        },
        "id": "MR0wcjfW3-dM",
        "outputId": "d7827758-301d-42ea-be6b-16f607b59152"
      },
      "execution_count": null,
      "outputs": [
        {
          "output_type": "stream",
          "name": "stdout",
          "text": [
            "Downloading data from https://storage.googleapis.com/tensorflow/keras-applications/vgg16/vgg16_weights_tf_dim_ordering_tf_kernels_notop.h5\n",
            "58889256/58889256 [==============================] - 0s 0us/step\n"
          ]
        }
      ]
    },
    {
      "cell_type": "code",
      "source": [
        "model = Sequential()\n",
        "model.add(base_model)\n",
        "model.add(Flatten())\n",
        "model.add(Dense(256, activation='relu'))"
      ],
      "metadata": {
        "id": "VPWzjlku3-hT"
      },
      "execution_count": null,
      "outputs": []
    },
    {
      "cell_type": "code",
      "source": [
        "model.add(Dense(num_classes=5, activation='softmax'))"
      ],
      "metadata": {
        "id": "ij-EdpOf6aIY"
      },
      "execution_count": null,
      "outputs": []
    },
    {
      "cell_type": "code",
      "source": [
        "model.compile(optimizer='adam', loss='categorical_crossentropy', metrics=['accuracy'])"
      ],
      "metadata": {
        "id": "Ykfo3_U13-re"
      },
      "execution_count": null,
      "outputs": []
    },
    {
      "cell_type": "code",
      "source": [
        "train_data = #data....\n",
        "train_labels = #labels...\n",
        "val_data = #data....\n",
        "val_labels = #labels...\n",
        "\n",
        "model.fit(train_data, train_labels, epochs=10, validation_data=(val_data, val_labels))"
      ],
      "metadata": {
        "id": "59qsfCyI6dOm"
      },
      "execution_count": null,
      "outputs": []
    },
    {
      "cell_type": "markdown",
      "source": [
        "## **Pretrained Model Training:**\n",
        "\n",
        "*  Starting Point: Pretrained models are ready-made deep neural networks trained on massive datasets like ImageNet.\n",
        "\n",
        "*  Tailored for Your Task: You adapt the pretrained model for your specific problem by adding custom layers on top.\n",
        "\n",
        "*  Training and Refinement: The model is trained on your dataset, and its existing features are fine-tuned to improve accuracy and generalization."
      ],
      "metadata": {
        "id": "G9DYEHzb3oU3"
      }
    },
    {
      "cell_type": "code",
      "source": [
        "import tensorflow as tf\n",
        "from tensorflow.keras.applications import ResNet50\n",
        "from tensorflow.keras.models import Sequential\n",
        "from tensorflow.keras.layers import Dense, GlobalAveragePooling2D"
      ],
      "metadata": {
        "id": "DYjNOeGW3sRw"
      },
      "execution_count": null,
      "outputs": []
    },
    {
      "cell_type": "code",
      "source": [
        "base_model = ResNet50(weights='imagenet', include_top=False, input_shape=(224, 224, 3))"
      ],
      "metadata": {
        "id": "QlYeLnLc3sTy"
      },
      "execution_count": null,
      "outputs": []
    },
    {
      "cell_type": "code",
      "source": [
        "model = Sequential()\n",
        "model.add(base_model)\n",
        "model.add(GlobalAveragePooling2D())\n",
        "model.add(Dense(num_classes, activation='softmax'))"
      ],
      "metadata": {
        "id": "Iy2ftX2l3vi4"
      },
      "execution_count": null,
      "outputs": []
    },
    {
      "cell_type": "code",
      "source": [
        "model.compile(optimizer='adam', loss='categorical_crossentropy', metrics=['accuracy'])\n",
        "model.fit(train_data, train_labels, epochs=10, validation_data=(val_data, val_labels))"
      ],
      "metadata": {
        "id": "YlwE0FUK3vlh"
      },
      "execution_count": null,
      "outputs": []
    }
  ]
}