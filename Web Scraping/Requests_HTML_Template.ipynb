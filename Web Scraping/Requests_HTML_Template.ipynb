{
  "nbformat": 4,
  "nbformat_minor": 0,
  "metadata": {
    "colab": {
      "provenance": [],
      "authorship_tag": "ABX9TyNIi5MuGdskZn0OHgYRZxkU",
      "include_colab_link": true
    },
    "kernelspec": {
      "name": "python3",
      "display_name": "Python 3"
    },
    "language_info": {
      "name": "python"
    }
  },
  "cells": [
    {
      "cell_type": "markdown",
      "metadata": {
        "id": "view-in-github",
        "colab_type": "text"
      },
      "source": [
        "<a href=\"https://colab.research.google.com/github/faisal-fida/100-Python-Projects-in-Google-Colab/blob/main/Requests_HTML_Template.ipynb\" target=\"_parent\"><img src=\"https://colab.research.google.com/assets/colab-badge.svg\" alt=\"Open In Colab\"/></a>"
      ]
    },
    {
      "cell_type": "code",
      "execution_count": null,
      "metadata": {
        "id": "Y3ZiG8ke2kx1"
      },
      "outputs": [],
      "source": [
        "from bs4 import BeautifulSoup as BS\n",
        "import pandas as pd"
      ]
    },
    {
      "cell_type": "code",
      "source": [
        "soup = BS(html, 'html.parser')"
      ],
      "metadata": {
        "id": "GCxtY-LCqrZr"
      },
      "execution_count": null,
      "outputs": []
    },
    {
      "cell_type": "code",
      "source": [
        "tables = soup.select('table')"
      ],
      "metadata": {
        "id": "PPiEA_jS6b7R"
      },
      "execution_count": null,
      "outputs": []
    },
    {
      "cell_type": "code",
      "source": [
        "datas = []\n",
        "\n",
        "for table in tables:\n",
        "  data = {}\n",
        "  data['date'] = table.select('td')[0].get_text(strip=True)\n",
        "  link = 'https://www.markkinaoikeus.fi/'\n",
        "  data['link'] = link + str(table.select('td')[1].select_one('a').get('href'))\n",
        "  data['case_no'] = table.select('td')[1].select_one('a').get_text(strip=True)\n",
        "  data['case_details'] = str(table.select('td')[1].select('span:not(a>span)')[0].get_text(strip=True)) + \" \" + str(table.select('td')[1].select('span:not(a>span)')[1].get_text(strip=True))\n",
        "  datas.append(data)"
      ],
      "metadata": {
        "id": "RYUOIbxTu8GO"
      },
      "execution_count": null,
      "outputs": []
    },
    {
      "cell_type": "code",
      "source": [
        "datas"
      ],
      "metadata": {
        "id": "TBrw0snCv4On"
      },
      "execution_count": null,
      "outputs": []
    },
    {
      "cell_type": "code",
      "source": [
        "pd.DataFrame(datas).to_csv('data2.csv', index=False)"
      ],
      "metadata": {
        "id": "A8xOXZsdv4Rg"
      },
      "execution_count": null,
      "outputs": []
    },
    {
      "cell_type": "code",
      "source": [
        "tables[0].select('td')[0].get_text(strip=True)"
      ],
      "metadata": {
        "colab": {
          "base_uri": "https://localhost:8080/",
          "height": 35
        },
        "id": "Iy7Dqe-Gsda6",
        "outputId": "9d8c51e2-7760-48a3-e105-0e7a8485f91f"
      },
      "execution_count": null,
      "outputs": [
        {
          "output_type": "execute_result",
          "data": {
            "text/plain": [
              "'25/08/2023'"
            ],
            "application/vnd.google.colaboratory.intrinsic+json": {
              "type": "string"
            }
          },
          "metadata": {},
          "execution_count": 29
        }
      ]
    },
    {
      "cell_type": "code",
      "source": [
        "tables[0].select('td')[1].select_one('a').get('href')"
      ],
      "metadata": {
        "colab": {
          "base_uri": "https://localhost:8080/",
          "height": 35
        },
        "id": "paOYKIzDsfhV",
        "outputId": "3096cbd5-ac83-4446-f6e6-5d9a8e60346d"
      },
      "execution_count": null,
      "outputs": [
        {
          "output_type": "execute_result",
          "data": {
            "text/plain": [
              "'/fi/index/paatokset/teollisjatekijanoikeudellisetasiat/mao3902023.html'"
            ],
            "application/vnd.google.colaboratory.intrinsic+json": {
              "type": "string"
            }
          },
          "metadata": {},
          "execution_count": 37
        }
      ]
    },
    {
      "cell_type": "code",
      "source": [
        "tables[0].select('td')[1].select_one('a').get_text(strip=True)"
      ],
      "metadata": {
        "colab": {
          "base_uri": "https://localhost:8080/",
          "height": 35
        },
        "id": "MDYO2hDmsflL",
        "outputId": "e7ba168c-c33b-46f0-e4df-b5777a743967"
      },
      "execution_count": null,
      "outputs": [
        {
          "output_type": "execute_result",
          "data": {
            "text/plain": [
              "'MAO:390/2023'"
            ],
            "application/vnd.google.colaboratory.intrinsic+json": {
              "type": "string"
            }
          },
          "metadata": {},
          "execution_count": 38
        }
      ]
    },
    {
      "cell_type": "code",
      "source": [
        "tables[0].select('td')[1].select('span:not(a>span)')"
      ],
      "metadata": {
        "colab": {
          "base_uri": "https://localhost:8080/"
        },
        "id": "quoVw93Nsfp_",
        "outputId": "f01a409e-2c99-4eef-9580-4a721481e722"
      },
      "execution_count": null,
      "outputs": [
        {
          "output_type": "execute_result",
          "data": {
            "text/plain": [
              "[<span class=\"kuukausiarkisto_asianosaiset\"><font style=\"vertical-align: inherit;\"><font style=\"vertical-align: inherit;\">Game Heaven Oy &gt; LW Group Oy</font></font></span>,\n",
              " <span class=\"metadatainfo\"><font style=\"vertical-align: inherit;\"><font style=\"vertical-align: inherit;\">business name - use of business name - trademark - bad faith</font></font></span>]"
            ]
          },
          "metadata": {},
          "execution_count": 44
        }
      ]
    }
  ]
}