{
  "nbformat": 4,
  "nbformat_minor": 0,
  "metadata": {
    "colab": {
      "provenance": [],
      "authorship_tag": "ABX9TyOOAbw3XDK7RAMTzSbAXWUP",
      "include_colab_link": true
    },
    "kernelspec": {
      "name": "python3",
      "display_name": "Python 3"
    },
    "language_info": {
      "name": "python"
    }
  },
  "cells": [
    {
      "cell_type": "markdown",
      "metadata": {
        "id": "view-in-github",
        "colab_type": "text"
      },
      "source": [
        "<a href=\"https://colab.research.google.com/github/faisal-fida/Python-in-Google-Colab-Projects/blob/main/Y2MATE_API_for_YouTube_Downloading.ipynb\" target=\"_parent\"><img src=\"https://colab.research.google.com/assets/colab-badge.svg\" alt=\"Open In Colab\"/></a>"
      ]
    },
    {
      "cell_type": "code",
      "execution_count": null,
      "metadata": {
        "id": "kBuz6A31vbFD"
      },
      "outputs": [],
      "source": [
        "import requests"
      ]
    },
    {
      "cell_type": "code",
      "source": [
        "URL = 'https://www.y2mate.com/mates/'\n",
        "\n",
        "url_Part1 = \"analyzeV2/ajax\"\n",
        "url_Part2 = \"convertV2/index\"\n",
        "\n",
        "headers = {\"content-type\": \"application/x-www-form-urlencoded; charset=UTF-8\"}\n",
        "\n",
        "payload_Part1 = \"k_query={}&k_page=home&hl=en&q_auto=0\"\n",
        "payload_Part2 = \"vid={}&k={}\""
      ],
      "metadata": {
        "id": "RRLM7-KPvdoU"
      },
      "execution_count": null,
      "outputs": []
    },
    {
      "cell_type": "code",
      "source": [
        "def analyze_URL():\n",
        "  url = URL + url_Part1\n",
        "  payload = payload_Part1.format(yt_url)\n",
        "  response = requests.request(\"POST\", url, data=payload, headers=headers)\n",
        "  if response:\n",
        "    data = response.json()['links']['mp4']\n",
        "    return [data[i]['k'] for i in data]"
      ],
      "metadata": {
        "id": "WR8UbqzFvd-_"
      },
      "execution_count": null,
      "outputs": []
    },
    {
      "cell_type": "code",
      "source": [
        "def convert_URL(k, yt_url):\n",
        "  datas = {}\n",
        "  url = URL + url_Part2\n",
        "  if '&list=' in yt_url:\n",
        "    yt_url = yt_url.split('&list=')[0].split('?v=')[-1]\n",
        "  else:\n",
        "    yt_url = yt_url.split('=')[-1]\n",
        "  payload = payload_Part2.format(yt_url, k)\n",
        "  print(yt_url)\n",
        "  response = requests.request(\"POST\", url, data=payload, headers=headers)\n",
        "  if response:\n",
        "    data = response.json()\n",
        "    print(data)\n",
        "    temp_data = {'title': data['title'], 'ftype': data['ftype'], 'fquality': data['fquality'], 'dlink': data['dlink']}\n",
        "    yt_data.append(temp_data)\n",
        "  else:\n",
        "    print(\"Response Error\")\n",
        "    pass"
      ],
      "metadata": {
        "id": "TXTcz--FwwS9"
      },
      "execution_count": null,
      "outputs": []
    },
    {
      "cell_type": "code",
      "source": [
        "def get_URLs(yt_url):\n",
        "  yt_data = []\n",
        "  data = analyze_URL()\n",
        "  for k in data:\n",
        "    convert_URL(k, yt_url)"
      ],
      "metadata": {
        "id": "T94O9ZIxxYOC"
      },
      "execution_count": null,
      "outputs": []
    },
    {
      "cell_type": "code",
      "source": [
        "final_datas = []\n",
        "urls = open(\"URLS.txt\").readlines()\n",
        "\n",
        "for i in urls:\n",
        "  final_data = {}\n",
        "  j = get_URLs(i)\n",
        "  final_datas.append(j)"
      ],
      "metadata": {
        "id": "8SoCPU7mw1ax"
      },
      "execution_count": null,
      "outputs": []
    },
    {
      "cell_type": "code",
      "source": [
        "url = 'https://www.youtube.com/watch?v=gQCF9loPdgc&list=PL6Rtnh6YJK7YtHh4sUd-l01Cbui0tMzDP&pp=iAQB'\n",
        "\n",
        "url.split('&list=')[0].split('?v=')[-1]"
      ],
      "metadata": {
        "id": "avPFlV6XxMQp"
      },
      "execution_count": null,
      "outputs": []
    }
  ]
}