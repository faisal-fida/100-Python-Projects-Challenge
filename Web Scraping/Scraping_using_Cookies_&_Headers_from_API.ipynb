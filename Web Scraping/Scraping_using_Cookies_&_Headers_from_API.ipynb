{
  "nbformat": 4,
  "nbformat_minor": 0,
  "metadata": {
    "colab": {
      "provenance": [],
      "mount_file_id": "1y6wwLLUVp0GnhvzYNt22HdZloZw6Ym4S",
      "authorship_tag": "ABX9TyOrbDZ8E+9/R2glUhKt1oyW",
      "include_colab_link": true
    },
    "kernelspec": {
      "name": "python3",
      "display_name": "Python 3"
    },
    "language_info": {
      "name": "python"
    }
  },
  "cells": [
    {
      "cell_type": "markdown",
      "metadata": {
        "id": "view-in-github",
        "colab_type": "text"
      },
      "source": [
        "<a href=\"https://colab.research.google.com/github/faisal-fida/100-Python-Projects-in-Google-Colab/blob/main/Scraping_using_Cookies_%26_Headers_from_API.ipynb\" target=\"_parent\"><img src=\"https://colab.research.google.com/assets/colab-badge.svg\" alt=\"Open In Colab\"/></a>"
      ]
    },
    {
      "cell_type": "code",
      "execution_count": null,
      "metadata": {
        "id": "YE5BlaakptQP"
      },
      "outputs": [],
      "source": [
        "import requests\n",
        "from bs4 import BeautifulSoup as BS"
      ]
    },
    {
      "cell_type": "code",
      "source": [
        "cookies = {\n",
        "    'b9df6f4539a3a9f2ab0a97061ef34e05': 'g6ekv9kg7bngv7fe89ai8qp256',\n",
        "    'PHPSESSID': '1ftrl01av1t0tg7vs3rtrn09g4',\n",
        "    '__utma': '106145566.142902707.1691783584.1691783584.1691783584.1',\n",
        "    '__utmc': '106145566',\n",
        "    '__utmz': '106145566.1691783584.1.1.utmcsr=(direct)|utmccn=(direct)|utmcmd=(none)',\n",
        "    'FHWfontSize34px': '12',\n",
        "    '__utmb': '106145566.3.10.1691783584',\n",
        "}\n",
        "\n",
        "headers = {\n",
        "    'Accept': 'text/html,application/xhtml+xml,application/xml;q=0.9,image/avif,image/webp,image/apng,*/*;q=0.8,application/signed-exchange;v=b3;q=0.7',\n",
        "    'Accept-Language': 'en-US,en;q=0.9',\n",
        "    'Cache-Control': 'max-age=0',\n",
        "    'Connection': 'keep-alive',\n",
        "    'Content-Type': 'application/x-www-form-urlencoded',\n",
        "    'Cookie': 'b9df6f4539a3a9f2ab0a97061ef34e05=g6ekv9kg7bngv7fe89ai8qp256; PHPSESSID=1ftrl01av1t0tg7vs3rtrn09g4; __utma=106145566.142902707.1691783584.1691783584.1691783584.1; __utmc=106145566; __utmz=106145566.1691783584.1.1.utmcsr=(direct)|utmccn=(direct)|utmcmd=(none); FHWfontSize34px=12; __utmb=106145566.3.10.1691783584',\n",
        "    'Origin': 'https://www.la-fcca.org',\n",
        "    'Referer': 'https://www.la-fcca.org/opiniongrid/opinionpub.php',\n",
        "    'Sec-Fetch-Dest': 'iframe',\n",
        "    'Sec-Fetch-Mode': 'navigate',\n",
        "    'Sec-Fetch-Site': 'same-origin',\n",
        "    'Sec-Fetch-User': '?1',\n",
        "    'Upgrade-Insecure-Requests': '1',\n",
        "    'User-Agent': 'Mozilla/5.0 (Windows NT 10.0; Win64; x64) AppleWebKit/537.36 (KHTML, like Gecko) Chrome/115.0.0.0 Safari/537.36',\n",
        "    'sec-ch-ua': '\"Not/A)Brand\";v=\"99\", \"Google Chrome\";v=\"115\", \"Chromium\";v=\"115\"',\n",
        "    'sec-ch-ua-mobile': '?0',\n",
        "    'sec-ch-ua-platform': '\"Windows\"',\n",
        "}\n",
        "\n",
        "data = [\n",
        "    ('opinionmode', 'view'),\n",
        "    ('opinionsort_field', 'sortdate'),\n",
        "    ('opinionsort_field_by', ''),\n",
        "    ('opinionsort_field_type', ''),\n",
        "    ('opinionsort_type', 'DESC'),\n",
        "    ('opinionsort_field', 'sortdate'),\n",
        "    ('opinionsort_field_by', ''),\n",
        "    ('opinionsort_field_type', ''),\n",
        "    ('opinionsort_type', 'DESC'),\n",
        "    ('opinionpage_size', '15'),\n",
        "    ('opinionp', '3'),\n",
        "]"
      ],
      "metadata": {
        "id": "CcH8uwFRSKMj"
      },
      "execution_count": null,
      "outputs": []
    },
    {
      "cell_type": "code",
      "source": [
        "soup = get_request()"
      ],
      "metadata": {
        "colab": {
          "base_uri": "https://localhost:8080/"
        },
        "id": "yUqHhnW9ST_l",
        "outputId": "f1e066f8-5739-44f0-faaa-6619ecc90965"
      },
      "execution_count": null,
      "outputs": [
        {
          "output_type": "stream",
          "name": "stdout",
          "text": [
            "('Connection aborted.', ConnectionResetError(104, 'Connection reset by peer'))\n"
          ]
        }
      ]
    },
    {
      "cell_type": "code",
      "source": [],
      "metadata": {
        "id": "x8AFgVHvS4AE"
      },
      "execution_count": null,
      "outputs": []
    },
    {
      "cell_type": "code",
      "source": [
        "soups = {}\n",
        "URL = 'https://www.example.org/example/example.php'\n",
        "PROXY = {'http': 'http://185.199.229.216:7492'}"
      ],
      "metadata": {
        "id": "SSkS8fQGpu-N"
      },
      "execution_count": null,
      "outputs": []
    },
    {
      "cell_type": "code",
      "source": [
        "def get_request():\n",
        "  with requests.Session() as session:\n",
        "      session.proxies = PROXY\n",
        "      try:\n",
        "          response = session.post(URL, timeout=10, cookies=cookies, headers=headers, data=data)\n",
        "          if response.status_code == 200:\n",
        "            soup = BS(response.content, 'html.parser')\n",
        "            return soup\n",
        "      except Exception as e:\n",
        "          print(e)"
      ],
      "metadata": {
        "id": "ngcKjA3RqlP7"
      },
      "execution_count": null,
      "outputs": []
    },
    {
      "cell_type": "code",
      "source": [
        "for i in range(2005,2023):\n",
        "  soup = get_request(URL+str(i))\n",
        "  soups[URL] = soup"
      ],
      "metadata": {
        "id": "dKeRB40m_SO7"
      },
      "execution_count": null,
      "outputs": []
    },
    {
      "cell_type": "code",
      "source": [
        "def get_urls(soup):\n",
        "  table_as = soup.select_one('div.widget-display table').select('a')\n",
        "  tableas_url = [ \"https://www.lasc.org\" + td.get('href') for td in table_as]\n",
        "  return tableas_url"
      ],
      "metadata": {
        "id": "VnrHLL8IAH-e"
      },
      "execution_count": null,
      "outputs": []
    },
    {
      "cell_type": "code",
      "source": [
        "tableas_urls = {}\n",
        "\n",
        "for url in soups:\n",
        "  tableas_url = get_urls(soups[url])\n",
        "  key = int(url.split('/')[-1])\n",
        "  tableas_urls[key] = tableas_url"
      ],
      "metadata": {
        "id": "a0QE1SFxCrD_"
      },
      "execution_count": null,
      "outputs": []
    },
    {
      "cell_type": "code",
      "source": [
        "total_count = len(tableas_urls)\n",
        "soups_final = {}\n",
        "\n",
        "for idx, year in enumerate(tableas_urls, start=1):\n",
        "  soupxs = []\n",
        "  for url in tableas_urls[year]:\n",
        "    soup = get_request(url)\n",
        "    soupxs.append(soup)\n",
        "  soups_final[year] = soupxs\n",
        "  print(f\"Done {idx} out of {total_count}\")"
      ],
      "metadata": {
        "id": "--KKrIO4DpX-"
      },
      "execution_count": null,
      "outputs": []
    },
    {
      "cell_type": "code",
      "source": [
        "def get_FinalData(soupx):\n",
        "  html = soupx.select_one('textarea[id=\"PostContent\"]')\n",
        "  if html:\n",
        "    html = html.get_text(strip=True)\n",
        "    soup = BS(html, 'html.parser')\n",
        "    result = {}\n",
        "    entries = []\n",
        "    current_entry = {}\n",
        "    for item in soup.select('h1, a, span, p strong, p'):\n",
        "\n",
        "\n",
        "\n",
        "      if item.name == 'span' and 'nrdate' in item.get('class', []):\n",
        "        current_entry['date'] = item.text\n",
        "      elif item.name == 'a':\n",
        "        current_entry['name'] = item.text\n",
        "        current_entry['link'] = item['href']\n",
        "\n",
        "      i = item.get_text(strip=True)\n",
        "      if 'day of' in i:\n",
        "        if 'date' not in current_entry:\n",
        "          current_entry['date'] = i\n",
        "      elif item:\n",
        "        if 'summary' not in current_entry:\n",
        "            current_entry['summary'] = \"\"\n",
        "        current_entry['summary'] += \" \" + item.get_text(strip=True)\n",
        "      entries.append(current_entry.copy())\n",
        "    for idx, entry in enumerate(entries, start=1):\n",
        "      date = entry.get('date', '')\n",
        "      summary = entry.get('summary', '')\n",
        "      name = entry.get('name', '')\n",
        "      link = entry.get('link', '')\n",
        "      result[idx] = {'name':name, 'date': date, 'summary': summary, 'link': link}\n",
        "    return result"
      ],
      "metadata": {
        "id": "01X1HNDoVh1K"
      },
      "execution_count": null,
      "outputs": []
    },
    {
      "cell_type": "code",
      "source": [
        "final_datax = {}\n",
        "\n",
        "for year in soups_final:\n",
        "  results = []\n",
        "  soups = soups_final[year]\n",
        "  for soupx in soups:\n",
        "   result = get_FinalData(soupx)\n",
        "   results.append(result)\n",
        "  final_datax[year] = results"
      ],
      "metadata": {
        "id": "SAo0eBbPVh4_"
      },
      "execution_count": null,
      "outputs": []
    },
    {
      "cell_type": "code",
      "source": [
        "len(final_datax)"
      ],
      "metadata": {
        "colab": {
          "base_uri": "https://localhost:8080/"
        },
        "id": "YbwydCNTFQKu",
        "outputId": "3d59775f-8881-4290-ca70-9502fccc7fa9"
      },
      "execution_count": null,
      "outputs": [
        {
          "output_type": "execute_result",
          "data": {
            "text/plain": [
              "18"
            ]
          },
          "metadata": {},
          "execution_count": 332
        }
      ]
    },
    {
      "cell_type": "code",
      "source": [
        "html = soupx.select_one('textarea[id=\"PostContent\"]')\n",
        "if html:\n",
        "  html = html.get_text(strip=True)\n",
        "  soup = BS(html, 'html.parser')"
      ],
      "metadata": {
        "id": "R3YMXr-oDNqn"
      },
      "execution_count": null,
      "outputs": []
    },
    {
      "cell_type": "code",
      "source": [
        "soup.select('p span')"
      ],
      "metadata": {
        "id": "mgtWi4afDVLm"
      },
      "execution_count": null,
      "outputs": []
    },
    {
      "cell_type": "code",
      "source": [
        "final_datax = {}\n",
        "\n",
        "for year in soups_final:\n",
        "  results = []\n",
        "  soups = soups_final[year]\n",
        "  for soupx in soups:\n",
        "    result = soupx.select_one('textarea[id=\"PostContent\"]')\n",
        "    html = result.get_text(strip=True)\n",
        "    soup = BS(html, 'html.parser')\n",
        "    results.append(result)\n",
        "  final_datax[year] = results"
      ],
      "metadata": {
        "id": "b1l6LyhceCpq"
      },
      "execution_count": null,
      "outputs": []
    },
    {
      "cell_type": "code",
      "source": [
        "def input_not_type_hidden(tag):\n",
        "    return tag.name == 'p' and tag.get('type') != 'hidden'\n",
        "\n",
        "soup.find_all(input_not_type_hidden)"
      ],
      "metadata": {
        "id": "7H63ctXf3f4v"
      },
      "execution_count": null,
      "outputs": []
    },
    {
      "cell_type": "code",
      "source": [
        "for i in final_datax[2006][1].select('p'):\n",
        "  print(i)\n",
        "  if i.attrs == {}:\n",
        "    print(i)"
      ],
      "metadata": {
        "id": "9V4_NVLz5O0V"
      },
      "execution_count": null,
      "outputs": []
    },
    {
      "cell_type": "code",
      "source": [
        "final_datax[2005][0]"
      ],
      "metadata": {
        "colab": {
          "base_uri": "https://localhost:8080/"
        },
        "id": "YGy-aSyA-M6p",
        "outputId": "bf7c76e2-c4e4-4c14-f5b9-763da946a9fa"
      },
      "execution_count": null,
      "outputs": [
        {
          "output_type": "execute_result",
          "data": {
            "text/plain": [
              "[]"
            ]
          },
          "metadata": {},
          "execution_count": 284
        }
      ]
    },
    {
      "cell_type": "code",
      "source": [
        "final_datax[2006][1].select('p')"
      ],
      "metadata": {
        "colab": {
          "base_uri": "https://localhost:8080/"
        },
        "id": "0Halg4ih3quI",
        "outputId": "adf22ffb-86a7-4d81-e5ed-c89fd8811848"
      },
      "execution_count": null,
      "outputs": [
        {
          "output_type": "execute_result",
          "data": {
            "text/plain": [
              "[<p> </p>,\n",
              " <p style=\"text-align:justify;\">The Opinion handed down on the <span style=\"text-decoration:underline;\"><strong>18th day of December, 2006</strong></span>, is as follows:</p>,\n",
              " <p style=\"text-align:justify;\"> </p>,\n",
              " <p style=\"text-align:justify;\"><span style=\"text-decoration:underline;\"><strong>BY KNOLL, J.:</strong></span></p>,\n",
              " <p style=\"text-align:justify;\"><a href=\"/opinions/2006/06c0477.pdf\">2006-C-0477 H. H. HANKS, ET AL. v. ENTERGY CORPORATION, ET AL.</a> (Parish of Union)<br/>For the foregoing reasons, the judgment of the court of appeal is reversed and the judgment of the district court is reinstated in its entirety.<br/>REVERSED.</p>,\n",
              " <p style=\"text-align:justify;\">VICTORY, J., dissents and assigns reasons.<br/>WEIMER, J., concurs and assigns reasons.</p>,\n",
              " <p> </p>]"
            ]
          },
          "metadata": {},
          "execution_count": 262
        }
      ]
    },
    {
      "cell_type": "code",
      "source": [
        "for i in final_datax[2006][4].select('p'):\n",
        "  if i:\n",
        "    print(i.get_text(strip=True))"
      ],
      "metadata": {
        "id": "Ltc4bfUKfd-Y"
      },
      "execution_count": null,
      "outputs": []
    },
    {
      "cell_type": "code",
      "source": [
        "for i in final_datax:\n",
        "  print(len(final_datax[i]))"
      ],
      "metadata": {
        "id": "miwG4utJfeDK"
      },
      "execution_count": null,
      "outputs": []
    },
    {
      "cell_type": "code",
      "source": [],
      "metadata": {
        "id": "KSUsRZgcfeFi"
      },
      "execution_count": null,
      "outputs": []
    },
    {
      "cell_type": "code",
      "source": [],
      "metadata": {
        "id": "_AZojV4yfeJB"
      },
      "execution_count": null,
      "outputs": []
    },
    {
      "cell_type": "code",
      "source": [
        "import pandas as pd"
      ],
      "metadata": {
        "id": "KxYmRilbSrVI"
      },
      "execution_count": null,
      "outputs": []
    },
    {
      "cell_type": "code",
      "source": [
        "df1 = pd.DataFrame(result.values())\n",
        "df2 = pd.DataFrame(result.values())"
      ],
      "metadata": {
        "id": "xjY77520Tg7u"
      },
      "execution_count": null,
      "outputs": []
    },
    {
      "cell_type": "code",
      "source": [
        "df = pd.concat([df1,df2])"
      ],
      "metadata": {
        "id": "wPybE6oBTqLw"
      },
      "execution_count": null,
      "outputs": []
    },
    {
      "cell_type": "code",
      "source": [
        "%cd .."
      ],
      "metadata": {
        "colab": {
          "base_uri": "https://localhost:8080/"
        },
        "id": "B4rozeUiF-11",
        "outputId": "59e72303-def9-49af-935b-a444e62d5e3d"
      },
      "execution_count": null,
      "outputs": [
        {
          "output_type": "stream",
          "name": "stdout",
          "text": [
            "/content\n"
          ]
        }
      ]
    },
    {
      "cell_type": "code",
      "source": [
        "!zip -r '/content/ExcelFiles.zip' '/content/ExcelFiles'"
      ],
      "metadata": {
        "id": "71JrwkGyIUEB"
      },
      "execution_count": null,
      "outputs": []
    },
    {
      "cell_type": "code",
      "source": [
        "for i in range(2005,2023):\n",
        "  df = pd.DataFrame()\n",
        "  for j in final_datax[i]:\n",
        "    df1 = pd.DataFrame.from_dict(j, orient='index')\n",
        "    df = pd.concat([df,df1])\n",
        "  df.to_excel(f\"{i}.xlsx\", engine='xlsxwriter')"
      ],
      "metadata": {
        "id": "x4348l2hF-91"
      },
      "execution_count": null,
      "outputs": []
    },
    {
      "cell_type": "code",
      "source": [
        "final_datax[2005][0].keys()"
      ],
      "metadata": {
        "colab": {
          "base_uri": "https://localhost:8080/"
        },
        "id": "COXok20hU41L",
        "outputId": "82581e88-126c-48a9-c418-2a40af24c145"
      },
      "execution_count": null,
      "outputs": [
        {
          "output_type": "execute_result",
          "data": {
            "text/plain": [
              "dict_keys([1, 2, 3, 4, 5, 6, 7, 8, 9, 10, 11, 12, 13, 14, 15, 16, 17, 18, 19, 20, 21, 22, 23, 24])"
            ]
          },
          "metadata": {},
          "execution_count": 339
        }
      ]
    },
    {
      "cell_type": "code",
      "source": [
        "df = pd.json_normalize(final_datax)"
      ],
      "metadata": {
        "id": "EvT69WvrZivg"
      },
      "execution_count": null,
      "outputs": []
    },
    {
      "cell_type": "code",
      "source": [
        "df.to_csv('50.0669')"
      ],
      "metadata": {
        "id": "ZETWxsTQkPjy"
      },
      "execution_count": null,
      "outputs": []
    },
    {
      "cell_type": "code",
      "source": [
        "df.to_excel(\"final.xlsx\", engine='xlsxwriter')"
      ],
      "metadata": {
        "id": "SNXvuoxjZmIY"
      },
      "execution_count": null,
      "outputs": []
    },
    {
      "cell_type": "code",
      "source": [],
      "metadata": {
        "id": "7Ol8mgYzkUbn"
      },
      "execution_count": null,
      "outputs": []
    }
  ]
}