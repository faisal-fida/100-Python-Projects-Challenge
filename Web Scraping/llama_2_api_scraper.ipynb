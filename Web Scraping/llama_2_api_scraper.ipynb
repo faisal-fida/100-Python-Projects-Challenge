{
  "nbformat": 4,
  "nbformat_minor": 0,
  "metadata": {
    "colab": {
      "provenance": [],
      "authorship_tag": "ABX9TyOwbFltNjMFE3DdH+nPEYLx",
      "include_colab_link": true
    },
    "kernelspec": {
      "name": "python3",
      "display_name": "Python 3"
    },
    "language_info": {
      "name": "python"
    }
  },
  "cells": [
    {
      "cell_type": "markdown",
      "metadata": {
        "id": "view-in-github",
        "colab_type": "text"
      },
      "source": [
        "<a href=\"https://colab.research.google.com/github/faisal-fida/100-Python-Projects-in-Google-Colab/blob/main/llama_2_api_scraper.ipynb\" target=\"_parent\"><img src=\"https://colab.research.google.com/assets/colab-badge.svg\" alt=\"Open In Colab\"/></a>"
      ]
    },
    {
      "cell_type": "code",
      "execution_count": null,
      "metadata": {
        "id": "W1DcWg8jxUEX"
      },
      "outputs": [],
      "source": [
        "import requests\n",
        "\n",
        "url = \"https://www.llama2.ai/api\""
      ]
    },
    {
      "cell_type": "code",
      "source": [
        "payload = {\"prompt\":\"[INST]{}[/INST]\\n\",\"version\":\"2c1608e18606fad2812020dc541930f2d0495ce32eee50074220b87300bc16e1\",\"systemPrompt\":\"You are a helpful assistant.\",\"temperature\":0.75,\"topP\":0.9,\"maxTokens\":800}"
      ],
      "metadata": {
        "id": "wgKTNKA5xU1e"
      },
      "execution_count": null,
      "outputs": []
    },
    {
      "cell_type": "code",
      "source": [
        "headers = { \"Content-Type\": \"application/json\", \"authority\": \"www.llama2.ai\", \"accept\": \"*/*\", \"accept-language\": \"en-PK,en-GB;q=0.9,en-US;q=0.8,en;q=0.7,ru;q=0.6\", \"cache-control\": \"no-cache\", \"origin\": \"https://www.llama2.ai\", \"pragma\": \"no-cache\", \"referer\": \"https://www.llama2.ai/\", \"sec-ch-ua\": '\"Chromium\";v=\"116\", \"Not)A;Brand\";v=\"24\", \"Google Chrome\";v=\"116\"', \"sec-ch-ua-mobile\": \"?0\", \"sec-ch-ua-platform\": \"Windows\", \"sec-fetch-dest\": \"empty\", \"sec-fetch-mode\": \"cors\", \"sec-fetch-site\": \"same-origin\", \"user-agent\": \"Mozilla/5.0 (Windows NT 10.0; Win64; x64) AppleWebKit/537.36 (KHTML, like Gecko) Chrome/116.0.0.0 Safari/537.36\" }"
      ],
      "metadata": {
        "id": "8lTeM09FxU6N"
      },
      "execution_count": null,
      "outputs": []
    },
    {
      "cell_type": "code",
      "source": [
        "def get_answer(query):\n",
        "  payload['prompt'] = payload['prompt'].format(query)\n",
        "  response = requests.request(\"POST\", url, json=payload, headers=headers)\n",
        "  if response.status_code == 200:\n",
        "    return ('Got Response:\\n', response.content)"
      ],
      "metadata": {
        "id": "JDJP_7pgxU9c"
      },
      "execution_count": null,
      "outputs": []
    },
    {
      "cell_type": "code",
      "source": [
        "query = \"Can you translate 'How're you?' in russia?\"\n",
        "\n",
        "get_answer(query)"
      ],
      "metadata": {
        "colab": {
          "base_uri": "https://localhost:8080/"
        },
        "id": "cRQnBkxw1Ppo",
        "outputId": "abeecfa3-112f-45f5-9629-ef4e79d40fc2"
      },
      "execution_count": null,
      "outputs": [
        {
          "output_type": "execute_result",
          "data": {
            "text/plain": [
              "('Got Response:\\n',\n",
              " b' Sure, I\\'d be happy to help! The phrase \"How\\'re you?\" in Russian is \"\\xd0\\x97\\xd0\\xb4\\xd1\\x80\\xd0\\xb0\\xd0\\xb2\\xd1\\x81\\xd1\\x82\\xd0\\xb2\\xd1\\x83\\xd0\\xb9\\xd1\\x82\\xd0\\xb5?\" (Zdravstvuyte?). This is a more formal way of asking how someone is doing, and is commonly used when speaking to someone you don\\'t know well or when speaking in a professional setting.\\n\\nIf you want to ask a more informal version of \"How\\'re you?\", you can say \"\\xd0\\x9a\\xd0\\xb0\\xd0\\xba \\xd0\\xb4\\xd0\\xb5\\xd0\\xbb\\xd0\\xb0?\" (Kak dyela?). This phrase is more casual and is often used when speaking to friends or acquaintances.\\n\\nI hope that helps! Let me know if you have any other questions.')"
            ]
          },
          "metadata": {},
          "execution_count": 45
        }
      ]
    }
  ]
}