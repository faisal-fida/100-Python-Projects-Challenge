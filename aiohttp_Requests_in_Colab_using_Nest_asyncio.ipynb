{
  "nbformat": 4,
  "nbformat_minor": 0,
  "metadata": {
    "colab": {
      "provenance": [],
      "authorship_tag": "ABX9TyM2z4j04NqlhN2FB1cM60vJ",
      "include_colab_link": true
    },
    "kernelspec": {
      "name": "python3",
      "display_name": "Python 3"
    },
    "language_info": {
      "name": "python"
    }
  },
  "cells": [
    {
      "cell_type": "markdown",
      "metadata": {
        "id": "view-in-github",
        "colab_type": "text"
      },
      "source": [
        "<a href=\"https://colab.research.google.com/github/faisal-fida/100-Python-Projects-in-Google-Colab/blob/main/aiohttp_Requests_in_Colab_using_Nest_asyncio.ipynb\" target=\"_parent\"><img src=\"https://colab.research.google.com/assets/colab-badge.svg\" alt=\"Open In Colab\"/></a>"
      ]
    },
    {
      "cell_type": "code",
      "execution_count": null,
      "metadata": {
        "id": "qW4Fh-PaR5BA"
      },
      "outputs": [],
      "source": [
        "!pip install aiohttp\n",
        "!pip3 install nest_asyncio\n",
        "\n",
        "import asyncio\n",
        "import aiohttp\n",
        "import nest_asyncio"
      ]
    },
    {
      "cell_type": "code",
      "source": [
        "async def fetch(session, url):\n",
        "    async with session.get(url) as response:\n",
        "        return await response.text()"
      ],
      "metadata": {
        "id": "Qmdi769qiid-"
      },
      "execution_count": null,
      "outputs": []
    },
    {
      "cell_type": "code",
      "source": [
        "async def fetch_all(urls):\n",
        "    async with aiohttp.ClientSession() as session:\n",
        "        tasks = []\n",
        "        for url in urls:\n",
        "            task = asyncio.ensure_future(fetch(session, url))\n",
        "            tasks.append(task)\n",
        "\n",
        "        responses = await asyncio.gather(*tasks)\n",
        "        return responses"
      ],
      "metadata": {
        "id": "sNmG0KsTidpg"
      },
      "execution_count": null,
      "outputs": []
    },
    {
      "cell_type": "code",
      "source": [
        "async def main():\n",
        "    urls = [\n",
        "        'https://httpbin.org/get',\n",
        "        'https://httpbin.org/get',\n",
        "        'https://httpbin.org/get'\n",
        "    ]\n",
        "\n",
        "    responses = await fetch_all(urls)\n",
        "    print(responses)"
      ],
      "metadata": {
        "id": "GGMAOQI_ic0J"
      },
      "execution_count": null,
      "outputs": []
    },
    {
      "cell_type": "code",
      "source": [
        "nest_asyncio.apply()\n",
        "\n",
        "loop = asyncio.get_event_loop()\n",
        "loop.run_until_complete(main())"
      ],
      "metadata": {
        "colab": {
          "base_uri": "https://localhost:8080/"
        },
        "id": "6Ss_k5Z_igxu",
        "outputId": "6ab454fc-01c6-49f6-aaf3-bab13918159e"
      },
      "execution_count": null,
      "outputs": [
        {
          "output_type": "stream",
          "name": "stdout",
          "text": [
            "['{\\n  \"args\": {}, \\n  \"headers\": {\\n    \"Accept\": \"*/*\", \\n    \"Accept-Encoding\": \"gzip, deflate\", \\n    \"Host\": \"httpbin.org\", \\n    \"User-Agent\": \"Python/3.10 aiohttp/3.8.4\", \\n    \"X-Amzn-Trace-Id\": \"Root=1-649317a1-458823806be1c7692022158c\"\\n  }, \\n  \"origin\": \"34.125.192.100\", \\n  \"url\": \"https://httpbin.org/get\"\\n}\\n', '{\\n  \"args\": {}, \\n  \"headers\": {\\n    \"Accept\": \"*/*\", \\n    \"Accept-Encoding\": \"gzip, deflate\", \\n    \"Host\": \"httpbin.org\", \\n    \"User-Agent\": \"Python/3.10 aiohttp/3.8.4\", \\n    \"X-Amzn-Trace-Id\": \"Root=1-649317a1-4928391905057d31450bfe9c\"\\n  }, \\n  \"origin\": \"34.125.192.100\", \\n  \"url\": \"https://httpbin.org/get\"\\n}\\n', '{\\n  \"args\": {}, \\n  \"headers\": {\\n    \"Accept\": \"*/*\", \\n    \"Accept-Encoding\": \"gzip, deflate\", \\n    \"Host\": \"httpbin.org\", \\n    \"User-Agent\": \"Python/3.10 aiohttp/3.8.4\", \\n    \"X-Amzn-Trace-Id\": \"Root=1-649317a1-4533a3e074ef58ab1f737860\"\\n  }, \\n  \"origin\": \"34.125.192.100\", \\n  \"url\": \"https://httpbin.org/get\"\\n}\\n']\n"
          ]
        }
      ]
    }
  ]
}