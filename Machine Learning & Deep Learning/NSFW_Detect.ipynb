{
  "nbformat": 4,
  "nbformat_minor": 0,
  "metadata": {
    "colab": {
      "provenance": [],
      "authorship_tag": "ABX9TyPgCdP9oCn9eVfBSg5XvPFh",
      "include_colab_link": true
    },
    "kernelspec": {
      "name": "python3",
      "display_name": "Python 3"
    },
    "language_info": {
      "name": "python"
    }
  },
  "cells": [
    {
      "cell_type": "markdown",
      "metadata": {
        "id": "view-in-github",
        "colab_type": "text"
      },
      "source": [
        "<a href=\"https://colab.research.google.com/github/faisal-fida/100-Python-Projects-in-Google-Colab/blob/main/NSFW_Detect.ipynb\" target=\"_parent\"><img src=\"https://colab.research.google.com/assets/colab-badge.svg\" alt=\"Open In Colab\"/></a>"
      ]
    },
    {
      "cell_type": "code",
      "execution_count": null,
      "metadata": {
        "id": "PJ4GVVFo1j2y"
      },
      "outputs": [],
      "source": [
        "!wget \"https://github.com/GantMan/nsfw_model/releases/download/1.2.0/mobilenet_v2_140_224.1.zip\"\n",
        "!unzip '/content/model.zip'\n",
        "!rm '/content/model.zip'\n",
        "!mv '/content/mobilenet_v2_140_224' '/content/model'\n",
        "!pip install nsfw_detector"
      ]
    },
    {
      "cell_type": "code",
      "source": [
        "from nsfw_detector import predict\n",
        "model = predict.load_model('/content/mobilenet_v2_140_224')\n",
        "img = '/content/img.jpg'\n",
        "\n",
        "result = predict.classify(model,img)"
      ],
      "metadata": {
        "id": "ovrWKnme2G1D"
      },
      "execution_count": null,
      "outputs": []
    },
    {
      "cell_type": "code",
      "source": [
        "n = round(((result[img]['neutral'])/1)*100)\n",
        "s = round(((result[img]['sexy'])/1)*100)\n",
        "p = round(((result[img]['porn'])/1)*100)\n",
        "\n",
        "print(f'The image is {n}% Neutral, {s}% Sexy and {p}% Porn.')"
      ],
      "metadata": {
        "colab": {
          "base_uri": "https://localhost:8080/"
        },
        "id": "1Ah_Ir8S5E9b",
        "outputId": "bf60b17c-b0cb-404d-ad5a-b1a2fcf2725f"
      },
      "execution_count": null,
      "outputs": [
        {
          "output_type": "stream",
          "name": "stdout",
          "text": [
            "The image is 46% Neutral, 3% Sexy and 47% Porn.\n"
          ]
        }
      ]
    }
  ]
}