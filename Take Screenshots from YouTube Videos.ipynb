{
  "nbformat": 4,
  "nbformat_minor": 0,
  "metadata": {
    "colab": {
      "provenance": [],
      "collapsed_sections": [
        "xPriEaw4QRlQ"
      ],
      "authorship_tag": "ABX9TyOTYR2uhQ522Xg32ShN5s+i",
      "include_colab_link": true
    },
    "kernelspec": {
      "name": "python3",
      "display_name": "Python 3"
    },
    "language_info": {
      "name": "python"
    }
  },
  "cells": [
    {
      "cell_type": "markdown",
      "metadata": {
        "id": "view-in-github",
        "colab_type": "text"
      },
      "source": [
        "<a href=\"https://colab.research.google.com/github/faisal-fida/Python-in-Google-Colab-Projects/blob/main/Take%20Screenshots%20from%20YouTube%20Videos.ipynb\" target=\"_parent\"><img src=\"https://colab.research.google.com/assets/colab-badge.svg\" alt=\"Open In Colab\"/></a>"
      ]
    },
    {
      "cell_type": "code",
      "source": [
        "#@title Importing..\n",
        "!pip install youtube-search\n",
        "!python -m pip install git+https://github.com/pytube/pytube\n",
        "from pytube import YouTube\n",
        "import cv2\n",
        "import os\n",
        "import glob\n",
        "import urllib\n",
        "from bs4 import BeautifulSoup\n",
        "from youtube_search import YoutubeSearch\n",
        "from IPython.display import clear_output\n",
        "\n",
        "os.system('add-apt-repository -y ppa:jonathonf/ffmpeg-4')\n",
        "os.system('apt-get install ffmpeg')\n",
        "clear_output()\n",
        "print('Installation finished.')"
      ],
      "metadata": {
        "cellView": "form",
        "id": "eiK07xPcQSsc",
        "colab": {
          "base_uri": "https://localhost:8080/"
        },
        "outputId": "7fec4e77-952e-4494-e509-97f54a8411c9"
      },
      "execution_count": 1,
      "outputs": [
        {
          "output_type": "stream",
          "name": "stdout",
          "text": [
            "Installation finished.\n"
          ]
        }
      ]
    },
    {
      "cell_type": "code",
      "source": [
        "#@title Initiate the Functions (Get -  Download - Video) 😀\n",
        "\n",
        "def get_urls(search_txt, limit=10):\n",
        "    query = urllib.parse.quote(search_txt)\n",
        "    results = YoutubeSearch(query, max_results=10).to_dict()\n",
        "    max_results = 10\n",
        "    urls = []\n",
        "    for i in range(max_results):\n",
        "      if i < limit:\n",
        "        urls.append('https://www.youtube.com' + results[i]['url_suffix'])\n",
        "        print(results[i]['title'])\n",
        "    return urls\n",
        "\n",
        "def download_video(url, path='/content/Videos', max_duration=10):\n",
        "    try:\n",
        "        yt = YouTube(url)\n",
        "        duration = yt.length\n",
        "        if duration < max_duration*60*1000:\n",
        "            yt = yt.streams.filter(file_extension='mp4').order_by('resolution')[-1]\n",
        "            out_file = yt.download(path)\n",
        "            file_name = out_file.split(\"\\\\\")[-1]\n",
        "            print(f\"Downloaded {file_name} correctly!\")\n",
        "        else:\n",
        "            print(f\"Video {url} too long\")\n",
        "    except Exception as exc:\n",
        "        print(f\"Download of {url} did not work because of {exc}...\")\n",
        "\n",
        "\n",
        "\n",
        ""
      ],
      "metadata": {
        "cellView": "form",
        "id": "dCcQoERvQUPz"
      },
      "execution_count": 2,
      "outputs": []
    },
    {
      "cell_type": "code",
      "source": [
        "#@title Main\n",
        "search_txt = \"ducky bhai\" #@param {type:\"string\"}\n",
        "num_videos = 1 #@param {type:\"integer\"}\n",
        "max_duration =  5 #@param {type:\"integer\"}\n",
        "\n",
        "urls = get_urls(search_txt, num_videos)\n",
        "print('\\n')\n",
        "x = input('Download?')\n",
        "\n",
        "if x == 'y':\n",
        "  for url in urls:\n",
        "      download_video(url, max_duration=max_duration)"
      ],
      "metadata": {
        "cellView": "form",
        "id": "IfQHlQCG5ZsZ",
        "colab": {
          "base_uri": "https://localhost:8080/"
        },
        "outputId": "fb80f05e-520a-4a9e-e936-b1cb8454f9ef"
      },
      "execution_count": 7,
      "outputs": [
        {
          "output_type": "stream",
          "name": "stdout",
          "text": [
            "MY NEW HOUSE 😍\n",
            "\n",
            "\n",
            "Download?y\n",
            "Downloaded /content/Videos/MY NEW HOUSE 😍.mp4 correctly!\n"
          ]
        }
      ]
    },
    {
      "cell_type": "markdown",
      "source": [
        "```\n",
        "Enter URL & Wait for Magic 💫\n",
        "    \n",
        "```"
      ],
      "metadata": {
        "id": "jvMj5oBxSo8z"
      }
    },
    {
      "cell_type": "code",
      "source": [
        "import os\n",
        "\n",
        "folder_path = \"/content/Videos\" #@param {type:\"string\"}\n",
        "\n",
        "arr = os.listdir(folder_path)"
      ],
      "metadata": {
        "id": "zjaXbo8jifPd",
        "cellView": "form"
      },
      "execution_count": 8,
      "outputs": []
    },
    {
      "cell_type": "code",
      "source": [
        "for video in arr:\n",
        "  inputFile = '/content/Videos/' + video\n",
        "  print(inputFile)\n",
        "  !ffmpeg -hide_banner -i \"$inputFile\" -vf fps=1/10  /content/images/img%03d.jpg"
      ],
      "metadata": {
        "id": "93VNrPhAkluV"
      },
      "execution_count": null,
      "outputs": []
    },
    {
      "cell_type": "code",
      "source": [
        "!zip -r '/content/images.zip' '/content/images'\n",
        "\n",
        "!rm -r '/content/images'\n",
        "!rm -r '/content/Videos'\n",
        "\n",
        "!mkdir 'images'\n",
        "!mkdir 'Videos'"
      ],
      "metadata": {
        "id": "iG1yENyYiI6I"
      },
      "execution_count": null,
      "outputs": []
    }
  ]
}