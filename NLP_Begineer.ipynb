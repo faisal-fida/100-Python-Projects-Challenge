{
  "nbformat": 4,
  "nbformat_minor": 0,
  "metadata": {
    "colab": {
      "provenance": [],
      "authorship_tag": "ABX9TyP/Jdpd3x5HtWOYS8UIN16O",
      "include_colab_link": true
    },
    "kernelspec": {
      "name": "python3",
      "display_name": "Python 3"
    },
    "language_info": {
      "name": "python"
    }
  },
  "cells": [
    {
      "cell_type": "markdown",
      "metadata": {
        "id": "view-in-github",
        "colab_type": "text"
      },
      "source": [
        "<a href=\"https://colab.research.google.com/github/faisal-fida/100-Python-Projects-in-Google-Colab/blob/main/NLP_Begineer.ipynb\" target=\"_parent\"><img src=\"https://colab.research.google.com/assets/colab-badge.svg\" alt=\"Open In Colab\"/></a>"
      ]
    },
    {
      "cell_type": "code",
      "execution_count": null,
      "metadata": {
        "id": "FhrxTPWAsm-d"
      },
      "outputs": [],
      "source": [
        "import numpy as np\n",
        "import pandas as pd\n",
        "\n",
        "from tensorflow.keras.layers import ReLU, Dense\n",
        "from tensorflow.keras.models import Sequential\n",
        "\n",
        "# !pip install datasets\n",
        "# !pip install nltk\n",
        "from datasets import load_dataset\n",
        "import nltk\n",
        "\n",
        "nltk.download('stopwords')"
      ]
    },
    {
      "cell_type": "code",
      "source": [
        "dataset = load_dataset(\"imdb\")\n",
        "\n",
        "# Convert the dataset to a Pandas DataFrame\n",
        "df_train = pd.DataFrame(dataset['train'])\n",
        "df_test = pd.DataFrame(dataset['test'])\n",
        "df_unsupervised = pd.DataFrame(dataset['unsupervised'])"
      ],
      "metadata": {
        "id": "dZ5of1hlst2g"
      },
      "execution_count": null,
      "outputs": []
    },
    {
      "cell_type": "code",
      "source": [
        "x_train = df_train['text']\n",
        "y_train = df_train['label']\n",
        "\n",
        "x_test = df_test['text']\n",
        "y_test = df_test['label']"
      ],
      "metadata": {
        "id": "grl3IiT0uqcC"
      },
      "execution_count": null,
      "outputs": []
    },
    {
      "cell_type": "code",
      "source": [
        "from nltk.corpus import stopwords"
      ],
      "metadata": {
        "id": "OQ8nylKUw7nf"
      },
      "execution_count": null,
      "outputs": []
    },
    {
      "cell_type": "code",
      "source": [
        "stop_words = set(stopwords.words('english'))"
      ],
      "metadata": {
        "id": "l3TGG5RVw9ZZ"
      },
      "execution_count": null,
      "outputs": []
    },
    {
      "cell_type": "code",
      "source": [
        "words = []\n",
        "\n",
        "for review in x_train:\n",
        "  for word in review.split():\n",
        "    if word.lower not in stop_words:\n",
        "      words.append(word)"
      ],
      "metadata": {
        "id": "5YryWixWw7q1"
      },
      "execution_count": null,
      "outputs": []
    },
    {
      "cell_type": "code",
      "source": [
        "len(words)"
      ],
      "metadata": {
        "colab": {
          "base_uri": "https://localhost:8080/"
        },
        "id": "5SVdRSaMydaQ",
        "outputId": "605a6c1b-7a87-4a23-d03e-1f2c2e176a75"
      },
      "execution_count": null,
      "outputs": [
        {
          "output_type": "execute_result",
          "data": {
            "text/plain": [
              "5844680"
            ]
          },
          "metadata": {},
          "execution_count": 25
        }
      ]
    },
    {
      "cell_type": "code",
      "source": [
        "reviews = [' '.join([word for word in review.split() if word.lower() not in stop_words]) for review in x_train]"
      ],
      "metadata": {
        "id": "IgmG53L_y3Pr"
      },
      "execution_count": null,
      "outputs": []
    },
    {
      "cell_type": "code",
      "source": [
        "reviews[0]"
      ],
      "metadata": {
        "colab": {
          "base_uri": "https://localhost:8080/",
          "height": 191
        },
        "id": "esS8JA4My7aR",
        "outputId": "b9d08b26-eb96-4760-ba4c-fbc92c2c19a8"
      },
      "execution_count": null,
      "outputs": [
        {
          "output_type": "execute_result",
          "data": {
            "text/plain": [
              "'rented CURIOUS-YELLOW video store controversy surrounded first released 1967. also heard first seized U.S. customs ever tried enter country, therefore fan films considered \"controversial\" really see myself.<br /><br />The plot centered around young Swedish drama student named Lena wants learn everything life. particular wants focus attentions making sort documentary average Swede thought certain political issues Vietnam War race issues United States. asking politicians ordinary denizens Stockholm opinions politics, sex drama teacher, classmates, married men.<br /><br />What kills CURIOUS-YELLOW 40 years ago, considered pornographic. Really, sex nudity scenes far between, even shot like cheaply made porno. countrymen mind find shocking, reality sex nudity major staple Swedish cinema. Even Ingmar Bergman, arguably answer good old boy John Ford, sex scenes films.<br /><br />I commend filmmakers fact sex shown film shown artistic purposes rather shock people make money shown pornographic theaters America. CURIOUS-YELLOW good film anyone wanting study meat potatoes (no pun intended) Swedish cinema. really, film much plot.'"
            ],
            "application/vnd.google.colaboratory.intrinsic+json": {
              "type": "string"
            }
          },
          "metadata": {},
          "execution_count": 28
        }
      ]
    }
  ]
}