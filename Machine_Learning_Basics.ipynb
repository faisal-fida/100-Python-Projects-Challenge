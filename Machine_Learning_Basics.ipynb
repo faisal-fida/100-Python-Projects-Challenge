{
  "nbformat": 4,
  "nbformat_minor": 0,
  "metadata": {
    "colab": {
      "provenance": [],
      "authorship_tag": "ABX9TyOwq7RcVO32KFqecwQOroAY",
      "include_colab_link": true
    },
    "kernelspec": {
      "name": "python3",
      "display_name": "Python 3"
    },
    "language_info": {
      "name": "python"
    }
  },
  "cells": [
    {
      "cell_type": "markdown",
      "metadata": {
        "id": "view-in-github",
        "colab_type": "text"
      },
      "source": [
        "<a href=\"https://colab.research.google.com/github/faisal-fida/100-Python-Projects-in-Google-Colab/blob/main/Machine_Learning_Basics.ipynb\" target=\"_parent\"><img src=\"https://colab.research.google.com/assets/colab-badge.svg\" alt=\"Open In Colab\"/></a>"
      ]
    },
    {
      "cell_type": "markdown",
      "source": [
        "# **Machine Learning**"
      ],
      "metadata": {
        "id": "ZDHIMKRuIwVA"
      }
    },
    {
      "cell_type": "markdown",
      "source": [
        "Machine Learning is a subset of artificial intelligence that involves the development of algorithms and models that enable computers to learn from data without explicit programming. It focuses on pattern recognition and making predictions based on existing data."
      ],
      "metadata": {
        "id": "Z1WqfiV8GYvS"
      }
    },
    {
      "cell_type": "markdown",
      "source": [
        "## **Why is Machine Learning important?**\n",
        "*   Extract valuable insights from large datasets\n",
        "*   Make data-driven decisions\n",
        "*   Automate tasks\n",
        "*   Improve predictions in various domains like healthcare, finance, marketing, and more."
      ],
      "metadata": {
        "id": "lQNG7svQGYyi"
      }
    },
    {
      "cell_type": "markdown",
      "source": [
        "## **How does Machine Learning work?**\n",
        "*   Learn from historical data through the process of training\n",
        "*   Use this data to identify patterns and relationships in the input features and corresponding target labels\n",
        "*   Once the model is trained, it can make predictions on new, unseen data."
      ],
      "metadata": {
        "id": "xcxbeRovGY0g"
      }
    },
    {
      "cell_type": "markdown",
      "source": [
        "## **Real-life examples of Machine Learning:**\n",
        "\n",
        "*   Spam email filtering: Classifying emails as spam or non-spam based on their\n",
        "content.\n",
        "*   Image recognition: Identifying objects or people in images.\n",
        "*   Autonomous vehicles: Teaching cars to navigate and make decisions based on their surroundings.\n",
        "*   Medical diagnosis: Assisting doctors in diagnosing diseases based on patient data."
      ],
      "metadata": {
        "id": "QMs63Y-vGY2a"
      }
    },
    {
      "cell_type": "markdown",
      "source": [
        "## **Example code (Python) for a simple classification model:**"
      ],
      "metadata": {
        "id": "enEojlAiGY4y"
      }
    },
    {
      "cell_type": "code",
      "source": [
        "from sklearn.datasets import fetch_california_housing\n",
        "from sklearn.model_selection import train_test_split\n",
        "from sklearn.linear_model import LinearRegression\n",
        "from sklearn.metrics import mean_squared_error, r2_score"
      ],
      "metadata": {
        "id": "uH4B1gIIKQWD"
      },
      "execution_count": null,
      "outputs": []
    },
    {
      "cell_type": "code",
      "source": [
        "housing = fetch_california_housing()\n",
        "X, y = housing.data, housing.target\n",
        "\n",
        "X_train, X_test, y_train, y_test = train_test_split(X, y, test_size=0.2, random_state=42)"
      ],
      "metadata": {
        "id": "1auMXtd7KQYo"
      },
      "execution_count": null,
      "outputs": []
    },
    {
      "cell_type": "code",
      "source": [
        "model = LinearRegression()\n",
        "model.fit(X_train, y_train)\n",
        "\n",
        "y_pred = model.predict(X_test)\n",
        "\n",
        "mse = mean_squared_error(y_test, y_pred)\n",
        "r2 = r2_score(y_test, y_pred)\n",
        "print(\"Linear Regression Mean Squared Error:\", mse)\n",
        "print(\"Linear Regression R-squared:\", r2)"
      ],
      "metadata": {
        "colab": {
          "base_uri": "https://localhost:8080/"
        },
        "id": "xbLqVJmHGyG8",
        "outputId": "6f9122ce-5d10-47e0-92f0-814503f87ab9"
      },
      "execution_count": null,
      "outputs": [
        {
          "output_type": "stream",
          "name": "stdout",
          "text": [
            "Linear Regression Mean Squared Error: 0.5558915986952422\n",
            "Linear Regression R-squared: 0.5757877060324524\n"
          ]
        }
      ]
    },
    {
      "cell_type": "markdown",
      "source": [
        "# **Popular ML Algorithms (Decision Trees and K-Nearest Neighbors)**"
      ],
      "metadata": {
        "id": "NqRtvTbuG4rC"
      }
    },
    {
      "cell_type": "markdown",
      "source": [
        "## **Decision Trees:**"
      ],
      "metadata": {
        "id": "jIF5tEY-HJyi"
      }
    },
    {
      "cell_type": "markdown",
      "source": [
        "**What are Decision Trees?**\n",
        "Decision Trees are tree-like models that use a series of binary decisions to classify data points. Each internal node represents a decision based on a specific feature, and each leaf node represents a class label.\n",
        "\n",
        "**Why are Decision Trees popular?**\n",
        "Decision Trees are popular due to their interpretability, ease of visualization, and ability to handle both classification and regression tasks.\n",
        "\n",
        "**How do Decision Trees work?**\n",
        "They recursively split the data based on the most informative features to create decision rules that segregate the data into classes.\n",
        "\n",
        "**Real-life example:**\n",
        "Credit risk assessment: Deciding whether to approve a loan based on various features of the applicant."
      ],
      "metadata": {
        "id": "gVMCJ9KCHJ0y"
      }
    },
    {
      "cell_type": "code",
      "source": [
        "from sklearn.datasets import load_iris\n",
        "from sklearn.model_selection import train_test_split\n",
        "from sklearn.tree import DecisionTreeClassifier\n",
        "from sklearn.metrics import accuracy_score\n",
        "\n",
        "iris = load_iris()\n",
        "X, y = iris.data, iris.target\n",
        "\n",
        "X_train, X_test, y_train, y_test = train_test_split(X, y, test_size=0.2, random_state=42)\n",
        "\n",
        "model = DecisionTreeClassifier()\n",
        "model.fit(X_train, y_train)\n",
        "\n",
        "y_pred = model.predict(X_test)\n",
        "\n",
        "accuracy = accuracy_score(y_test, y_pred)\n",
        "print(\"Decision Tree Accuracy:\", accuracy)"
      ],
      "metadata": {
        "colab": {
          "base_uri": "https://localhost:8080/"
        },
        "id": "hrYqo5gXHw5V",
        "outputId": "937d5b6e-53a3-494e-8dc4-711ae297a15e"
      },
      "execution_count": null,
      "outputs": [
        {
          "output_type": "stream",
          "name": "stdout",
          "text": [
            "Decision Tree Accuracy: 1.0\n"
          ]
        }
      ]
    },
    {
      "cell_type": "markdown",
      "source": [
        "## **K-Nearest Neighbors (KNN):**"
      ],
      "metadata": {
        "id": "zK6E76bdHJ2-"
      }
    },
    {
      "cell_type": "markdown",
      "source": [
        "**What is K-Nearest Neighbors?**\n",
        "K-Nearest Neighbors is a simple and intuitive algorithm that classifies data points based on the majority class of their 'k' nearest neighbors in the feature space.\n",
        "\n",
        "**Why is KNN popular?**\n",
        "KNN is popular for its simplicity, ease of implementation, and the fact that it can be used for both classification and regression tasks.\n",
        "\n",
        "**How does KNN work?**\n",
        "Given a new data point, the algorithm identifies the 'k' nearest data points in the training set based on a distance metric (e.g., Euclidean distance). It then assigns the class label by taking a majority vote among its neighbors.\n",
        "\n",
        "**Real-life example:**\n",
        "Product recommendation: Recommending products to customers based on the preferences of users with similar behavior."
      ],
      "metadata": {
        "id": "q87Q4wJrHJ6w"
      }
    },
    {
      "cell_type": "code",
      "source": [
        "from sklearn.datasets import load_iris\n",
        "from sklearn.model_selection import train_test_split\n",
        "from sklearn.neighbors import KNeighborsClassifier\n",
        "from sklearn.metrics import accuracy_score\n",
        "\n",
        "iris = load_iris()\n",
        "X, y = iris.data, iris.target\n",
        "\n",
        "X_train, X_test, y_train, y_test = train_test_split(X, y, test_size=0.2, random_state=42)\n",
        "\n",
        "model = KNeighborsClassifier(n_neighbors=3)\n",
        "model.fit(X_train, y_train)\n",
        "\n",
        "y_pred = model.predict(X_test)\n",
        "\n",
        "accuracy = accuracy_score(y_test, y_pred)\n",
        "print(\"K-Nearest Neighbors Accuracy:\", accuracy)"
      ],
      "metadata": {
        "colab": {
          "base_uri": "https://localhost:8080/"
        },
        "id": "5mLdeQpKHx5p",
        "outputId": "833e9041-3f2d-4daa-9478-5563299a7cd7"
      },
      "execution_count": null,
      "outputs": [
        {
          "output_type": "stream",
          "name": "stdout",
          "text": [
            "K-Nearest Neighbors Accuracy: 1.0\n"
          ]
        }
      ]
    },
    {
      "cell_type": "code",
      "source": [],
      "metadata": {
        "id": "ocagSQTUPXnE"
      },
      "execution_count": null,
      "outputs": []
    }
  ]
}